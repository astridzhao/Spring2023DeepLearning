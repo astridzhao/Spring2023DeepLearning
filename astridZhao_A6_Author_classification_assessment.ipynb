{
  "cells": [
    {
      "cell_type": "markdown",
      "metadata": {
        "id": "view-in-github",
        "colab_type": "text"
      },
      "source": [
        "<a href=\"https://colab.research.google.com/github/AstridZhao/Spring2023DeepLearning/blob/main/astridZhao_A6_Author_classification_assessment.ipynb\" target=\"_parent\"><img src=\"https://colab.research.google.com/assets/colab-badge.svg\" alt=\"Open In Colab\"/></a>"
      ]
    },
    {
      "cell_type": "markdown",
      "metadata": {
        "id": "_jiGtJu6u9ml"
      },
      "source": [
        "# Copyright\n",
        "\n",
        "<PRE>\n",
        "Copyright (c) 2023 Bálint Gyires-Tóth - All Rights Reserved\n",
        "You may use and modify this code for research and development purpuses.\n",
        "Use this code for educational purposes (self-paced or instructor led) without the permission of the author is prohibited.\n",
        "</PRE>"
      ]
    },
    {
      "cell_type": "markdown",
      "metadata": {
        "id": "oXyFC44jV-PP"
      },
      "source": [
        "# Author classification\n",
        "The task is to train a 1D CNN or an LSTM that is able to  classify text from two authors. The final model should be able to tell about a text with a given length (e.g. 60 characters) who wrote it. \n",
        "\n",
        "Please write the codes according to the following parts:"
      ]
    },
    {
      "cell_type": "markdown",
      "metadata": {
        "id": "jCnLoeGrHXsp"
      },
      "source": [
        "## Python module imports\n",
        "Import all Python modules that you would need during the Assignment."
      ]
    },
    {
      "cell_type": "code",
      "execution_count": null,
      "metadata": {
        "id": "7itbFGt3HXVT"
      },
      "outputs": [],
      "source": [
        "from tensorflow.keras.models import Sequential\n",
        "from tensorflow.keras.layers import Dense, Activation, Dropout, Flatten\n",
        "from tensorflow.keras.layers import LSTM\n",
        "from tensorflow.keras.optimizers import RMSprop\n",
        "from urllib.request import urlretrieve\n",
        "from tensorflow.keras.callbacks import EarlyStopping\n",
        "import seaborn as sns\n",
        "import matplotlib.pyplot as plt\n",
        "import numpy as np\n",
        "import random\n",
        "import sys\n",
        "import re, cgi\n",
        "import pandas as pd  "
      ]
    },
    {
      "cell_type": "markdown",
      "metadata": {
        "id": "Hr617tEpHd8R"
      },
      "source": [
        "## Data acquisition\n",
        "Seek a possible dataset, you can use any source, e.g.\n",
        "* http://www.gutenberg.org/\n",
        "* https://www.kaggle.com/datasets\n",
        "* https://paperswithcode.com/datasets\n",
        "* if you would like to learn Hungarian, than e.g. https://mek.oszk.hu/\n",
        "\n",
        "You can download the text by hand (e.g. by copy-pasting some parts into txt files) or with Python. "
      ]
    },
    {
      "cell_type": "code",
      "execution_count": null,
      "metadata": {
        "id": "NgkdQxHqHdZB"
      },
      "outputs": [],
      "source": [
        "url_book1=\"https://www.gutenberg.org/cache/epub/1513/pg1513.txt\"\n",
        "urlretrieve(url_book1, 'book.txt')\n",
        "text1 = open(\"book.txt\", encoding='utf-8').read().lower()\n",
        "\n",
        "url_book2=\"https://www.gutenberg.org/cache/epub/1342/pg1342.txt\"\n",
        "urlretrieve(url_book2, 'book.txt')\n",
        "text2 = open(\"book.txt\", encoding='utf-8').read().lower()\n",
        "\n",
        "dataset = {'book':['Romeo and Juliet','Pride and prejudice'],'number of characters': [len(text1), len(text2)]}\n",
        "\n",
        "df= pd.DataFrame(dataset)   "
      ]
    },
    {
      "cell_type": "markdown",
      "metadata": {
        "id": "U9Pmq91t3SRD"
      },
      "source": [
        "## Data analysis\n",
        "Count the number of characters from both authors and display them on a plot (e.g. Seaborn's countplot)."
      ]
    },
    {
      "cell_type": "code",
      "execution_count": null,
      "metadata": {
        "colab": {
          "base_uri": "https://localhost:8080/"
        },
        "id": "uRqGdn4F3Spk",
        "outputId": "9e7be061-16b3-4e07-d850-57f8615b1876"
      },
      "outputs": [
        {
          "output_type": "stream",
          "name": "stdout",
          "text": [
            "Number of characters in the first text (\"Romeo and Juliet\"): 161697\n",
            "Number of characters in the second text (\"Pride and prejudice\"): 748079\n"
          ]
        }
      ],
      "source": [
        "print('Number of characters in the first text (\"Romeo and Juliet\"):', len(text1))\n",
        "print('Number of characters in the second text (\"Pride and prejudice\"):', len(text2))"
      ]
    },
    {
      "cell_type": "code",
      "execution_count": null,
      "metadata": {
        "colab": {
          "base_uri": "https://localhost:8080/"
        },
        "id": "C2nJU3ZfqGq6",
        "outputId": "2fe7e6a5-6a7f-47ba-f5e8-5ed4039fb291"
      },
      "outputs": [
        {
          "output_type": "stream",
          "name": "stdout",
          "text": [
            "                  book  number of characters\n",
            "0     Romeo and Juliet                161697\n",
            "1  Pride and prejudice                748079\n"
          ]
        }
      ],
      "source": [
        "# print the dataset\n",
        "print(df)  "
      ]
    },
    {
      "cell_type": "code",
      "execution_count": null,
      "metadata": {
        "colab": {
          "base_uri": "https://localhost:8080/",
          "height": 448
        },
        "id": "Lt890GAKXVLY",
        "outputId": "532dfc6c-2287-4487-9ce4-ea260c2380a1"
      },
      "outputs": [
        {
          "output_type": "execute_result",
          "data": {
            "text/plain": [
              "Text(0.5, 0, '')"
            ]
          },
          "metadata": {},
          "execution_count": 6
        },
        {
          "output_type": "display_data",
          "data": {
            "text/plain": [
              "<Figure size 640x480 with 1 Axes>"
            ],
            "image/png": "[encoded data removed]"
          },
          "metadata": {}
        }
      ],
      "source": [
        "df.plot(x=\"book\", y = \"number of characters\",kind='bar',rot=0)\n",
        "plt.xlabel(\"\")"
      ]
    },
    {
      "cell_type": "markdown",
      "metadata": {
        "id": "cHyE_ndGIblJ"
      },
      "source": [
        "## Data loading, labeling and preprocessing\n",
        "Load the data and convert the characters into one-hot encodings. Then load the data into a 3D NumPy array, with a shape of\n",
        "\n",
        "* (batch, sequence_length, alphabet_length)\n",
        "\n",
        "where sequence_length=60, and alphabet_length equals to the number of unique characters in both datasets. The sequences should be cut out from the complete dataset by sliding window. You should add 0 and 1 labels to the sequences, according to the author. \n",
        "\n",
        "Later you may change sequence_length to achieve better results!"
      ]
    },
    {
      "cell_type": "code",
      "execution_count": null,
      "metadata": {
        "colab": {
          "base_uri": "https://localhost:8080/"
        },
        "id": "arooXt0WIb6x",
        "outputId": "69813bac-e782-4e8b-d6b1-2da719559d47"
      },
      "outputs": [
        {
          "output_type": "stream",
          "name": "stdout",
          "text": [
            "Unique characters of the book1: 63\n",
            "Unique characters of the book1: 72\n"
          ]
        }
      ],
      "source": [
        "# Load the data and convert the characters into one-hot encodings\n",
        "unique_chars_1 = sorted(list(set(text1)))\n",
        "print('Unique characters of the book1:', len(unique_chars_1))\n",
        "unique_chars_2 = sorted(list(set(text2)))\n",
        "print('Unique characters of the book1:', len(unique_chars_2))"
      ]
    },
    {
      "cell_type": "code",
      "execution_count": null,
      "metadata": {
        "colab": {
          "base_uri": "https://localhost:8080/"
        },
        "id": "rOuq8jgRtw9n",
        "outputId": "12504d06-3d73-488c-dc1d-43777caac865"
      },
      "outputs": [
        {
          "output_type": "stream",
          "name": "stdout",
          "text": [
            "Indices to char dictionary of book1: {0: '\\n', 1: ' ', 2: '!', 3: '\"', 4: '#', 5: '$', 6: '%', 7: '&', 8: \"'\", 9: '(', 10: ')', 11: '*', 12: ',', 13: '-', 14: '.', 15: '/', 16: '0', 17: '1', 18: '2', 19: '3', 20: '4', 21: '5', 22: '6', 23: '7', 24: '8', 25: '9', 26: ':', 27: ';', 28: '?', 29: '[', 30: ']', 31: '_', 32: 'a', 33: 'b', 34: 'c', 35: 'd', 36: 'e', 37: 'f', 38: 'g', 39: 'h', 40: 'i', 41: 'j', 42: 'k', 43: 'l', 44: 'm', 45: 'n', 46: 'o', 47: 'p', 48: 'q', 49: 'r', 50: 's', 51: 't', 52: 'u', 53: 'v', 54: 'w', 55: 'x', 56: 'y', 57: 'z', 58: 'æ', 59: '—', 60: '‘', 61: '’', 62: '\\ufeff'}\n",
            "Indices to char dictionary of book2: {0: '\\n', 1: ' ', 2: '!', 3: '\"', 4: '#', 5: '$', 6: '%', 7: '&', 8: \"'\", 9: '(', 10: ')', 11: '*', 12: ',', 13: '-', 14: '.', 15: '/', 16: '0', 17: '1', 18: '2', 19: '3', 20: '4', 21: '5', 22: '6', 23: '7', 24: '8', 25: '9', 26: ':', 27: ';', 28: '?', 29: '[', 30: ']', 31: '^', 32: '_', 33: 'a', 34: 'b', 35: 'c', 36: 'd', 37: 'e', 38: 'f', 39: 'g', 40: 'h', 41: 'i', 42: 'j', 43: 'k', 44: 'l', 45: 'm', 46: 'n', 47: 'o', 48: 'p', 49: 'q', 50: 'r', 51: 's', 52: 't', 53: 'u', 54: 'v', 55: 'w', 56: 'x', 57: 'y', 58: 'z', 59: '{', 60: '}', 61: '·', 62: 'à', 63: 'â', 64: 'é', 65: 'ê', 66: 'œ', 67: '‘', 68: '’', 69: '“', 70: '”', 71: '\\ufeff'}\n",
            "Indices to char dictionary:  {0: '\\n', 1: ' ', 2: '!', 3: '\"', 4: '#', 5: '$', 6: '%', 7: '&', 8: \"'\", 9: '(', 10: ')', 11: '*', 12: ',', 13: '-', 14: '.', 15: '/', 16: '0', 17: '1', 18: '2', 19: '3', 20: '4', 21: '5', 22: '6', 23: '7', 24: '8', 25: '9', 26: ':', 27: ';', 28: '?', 29: '[', 30: ']', 31: '^', 32: '_', 33: 'a', 34: 'b', 35: 'c', 36: 'd', 37: 'e', 38: 'f', 39: 'g', 40: 'h', 41: 'i', 42: 'j', 43: 'k', 44: 'l', 45: 'm', 46: 'n', 47: 'o', 48: 'p', 49: 'q', 50: 'r', 51: 's', 52: 't', 53: 'u', 54: 'v', 55: 'w', 56: 'x', 57: 'y', 58: 'z', 59: '{', 60: '}', 61: '·', 62: 'à', 63: 'â', 64: 'é', 65: 'ê', 66: 'œ', 67: '‘', 68: '’', 69: '“', 70: '”', 71: '\\ufeff'}\n"
          ]
        }
      ],
      "source": [
        "# load the data into a 3D NumPy array\n",
        "char_indices_1 = dict((c, i) for i, c in enumerate(unique_chars_1))\n",
        "indices_char_1 = dict((i, c) for i, c in enumerate(unique_chars_1))\n",
        "print (\"Indices to char dictionary of book1:\", indices_char_1)\n",
        "\n",
        "char_indices_2 = dict((c, i) for i, c in enumerate(unique_chars_2))\n",
        "indices_char_2 = dict((i, c) for i, c in enumerate(unique_chars_2))\n",
        "print (\"Indices to char dictionary of book2:\", indices_char_2)\n",
        "\n",
        "# combine the data together \n",
        "indice_char = (indices_char_1 | indices_char_2 )\n",
        "print(\"Indices to char dictionary: \",indice_char)\n",
        "\n",
        "char_indices = (char_indices_1 | char_indices_2 )\n",
        "# print(\"Char to Indices dictionary: \",char_indices)\n",
        "\n"
      ]
    },
    {
      "cell_type": "code",
      "execution_count": null,
      "metadata": {
        "id": "UKVfu8EHNGBZ"
      },
      "outputs": [],
      "source": [
        "# The sequences should be cut out from the complete dataset by sliding window. \n",
        "# You should add 0 and 1 labels to the sequences, according to the author.\n",
        "sequence_length = 60\n",
        "step = 50\n",
        "\n",
        "sequence = []\n",
        "label1 = []\n",
        "label2 = []\n",
        "label = [] \n",
        "\n",
        "for i in range(0, len(text1) - sequence_length + 1, step):\n",
        "    sequence.append(text1[i:i+sequence_length])\n",
        "    label1.append(0)  # text1\n",
        "\n",
        "for i in range(0, len(text2) - sequence_length + 1, step):\n",
        "    sequence.append(text2[i:i+sequence_length])\n",
        "    label2.append(1)  # text2\n",
        "\n",
        "label = label1 + label2"
      ]
    },
    {
      "cell_type": "code",
      "execution_count": null,
      "metadata": {
        "colab": {
          "base_uri": "https://localhost:8080/"
        },
        "id": "w-G1ldGouiwh",
        "outputId": "5003033e-aa12-43db-f1ce-01c74e16f219"
      },
      "outputs": [
        {
          "output_type": "stream",
          "name": "stdout",
          "text": [
            "Number of training samples: 18194\n",
            "Number of sequences: 18194\n"
          ]
        }
      ],
      "source": [
        "#testing\n",
        "print('Number of training samples:', len(label)) \n",
        "print('Number of sequences:', len(sequence))"
      ]
    },
    {
      "cell_type": "code",
      "execution_count": null,
      "metadata": {
        "id": "LRiIMmLJtyjs"
      },
      "outputs": [],
      "source": [
        "#(batch, sequence_length, alphabet_length)\n",
        "batch = len(label)\n",
        "\n",
        "alphabet_length = len(char_indices) # alphabet_length equals to the number of unique characters\n",
        "\n",
        "# Creating NumPy arrays with the correct shapes:\n",
        "X = np.zeros((batch,sequence_length,alphabet_length), dtype=float)\n",
        "Y = np.zeros((batch,1), dtype= float)"
      ]
    },
    {
      "cell_type": "code",
      "execution_count": null,
      "metadata": {
        "colab": {
          "base_uri": "https://localhost:8080/"
        },
        "id": "4UN3U6ObAW9q",
        "outputId": "13ae013f-bbf7-400e-b64a-f2a80bda9b97"
      },
      "outputs": [
        {
          "output_type": "stream",
          "name": "stdout",
          "text": [
            "Shape of the input data: (18194, 60, 74)\n",
            "Shape of the target data: (18194, 1)\n"
          ]
        }
      ],
      "source": [
        "# Introducing one-hot encodings to the NumPy arrays:\n",
        "for i, sentence in enumerate(sequence):\n",
        "    for t, char in enumerate(sentence): \n",
        "      X[i,t,char_indices[char]] = 1\n",
        "\n",
        "for i, sentence in enumerate(sequence):\n",
        "    Y[i,0] = label[i]\n",
        "\n",
        "print (\"Shape of the input data:\", X.shape)\n",
        "print (\"Shape of the target data:\", Y.shape)"
      ]
    },
    {
      "cell_type": "markdown",
      "metadata": {
        "id": "lL1Mc8ibHnep"
      },
      "source": [
        "## Data splitting\n",
        "Split the data into train, validate and test sets. Make "
      ]
    },
    {
      "cell_type": "code",
      "execution_count": null,
      "metadata": {
        "id": "ELyG9XFUHrkB"
      },
      "outputs": [],
      "source": [
        "valid_split = 0.2\n",
        "test_split  = 0.1\n",
        "\n",
        "num = len(label1)\n",
        "num2 = len(label2)\n",
        "\n",
        "# change v_point \n",
        "v_point_1 = int((num*(1-valid_split - test_split)))\n",
        "t_point_1 = int((num*(1-test_split)))\n",
        "\n",
        "v_point_2 = int((num2*(1-valid_split - test_split)))\n",
        "t_point_2 = int((num2*(1-test_split)))\n",
        "\n",
        "X_1 = X[:num]\n",
        "X_2 = X[num:]\n",
        "\n",
        "X_train_1 = X_1[:v_point_1] \n",
        "X_train_2 = X_2[:v_point_2] \n",
        "\n",
        "X_valid_1 = X_1[v_point_1:t_point_1]\n",
        "X_valid_2 = X_2[v_point_2:t_point_2]\n",
        "\n",
        "X_test_1 = X_1[t_point_1:]\n",
        "X_test_2 = X_2[t_point_2:]\n",
        "\n",
        "Y_1 = Y[:num] \n",
        "Y_2 = Y[num:]\n",
        "\n",
        "Y_train_1 = Y_1[:v_point_1] \n",
        "Y_train_2 = Y_2[:v_point_2] \n",
        "\n",
        "Y_valid_1 = Y_1[v_point_1:t_point_1]\n",
        "Y_valid_2 = Y_2[v_point_2:t_point_2]\n",
        "\n",
        "Y_test_1 = Y_1[t_point_1:]\n",
        "Y_test_2 = Y_2[t_point_2:]\n",
        "\n",
        "X_train = np.concatenate((X_train_1,X_train_2))\n",
        "X_valid = np.concatenate((X_valid_1,X_valid_2))\n",
        "X_test = np.concatenate((X_test_1,X_test_2))\n",
        "\n",
        "Y_train = np.concatenate((Y_train_1,Y_train_2))\n",
        "Y_valid = np.concatenate((Y_valid_1,Y_valid_2))\n",
        "Y_test = np.concatenate((Y_test_1,Y_test_2))"
      ]
    },
    {
      "cell_type": "code",
      "execution_count": null,
      "metadata": {
        "colab": {
          "base_uri": "https://localhost:8080/"
        },
        "id": "fcw9vlX_s_p5",
        "outputId": "4f22aab2-986b-42bb-ea52-f075c19bfb8f"
      },
      "outputs": [
        {
          "output_type": "stream",
          "name": "stdout",
          "text": [
            "Shape of the input data: (12735, 60, 74)\n",
            "Shape of the target data: (12735, 1)\n"
          ]
        }
      ],
      "source": [
        "print (\"Shape of the input data:\", X_train.shape)\n",
        "print (\"Shape of the target data:\", Y_train.shape)"
      ]
    },
    {
      "cell_type": "markdown",
      "metadata": {
        "id": "hA8U9tr7HrNQ"
      },
      "source": [
        "## Model definition\n",
        "Define an LSTM (or a 1D CNN) for the task. Compile the model with the correct loss function."
      ]
    },
    {
      "cell_type": "markdown",
      "source": [],
      "metadata": {
        "id": "hsfGb56r-zjF"
      }
    },
    {
      "cell_type": "code",
      "execution_count": null,
      "metadata": {
        "id": "BT1V1s4kHuUe"
      },
      "outputs": [],
      "source": [
        "# model = Sequential()\n",
        "# model.add(LSTM(128, input_shape=(X_train.shape[-2], X_train.shape[-1])))\n",
        "# model.add(Dense(alphabet_length))\n",
        "# model.add(Activation('sigmoid'))\n",
        "\n",
        "# # model.add(Flatten())\n",
        "from tensorflow.keras.layers import Dense, Activation, Dropout, Flatten, Conv1D, MaxPooling1D, Reshape\n",
        "\n",
        "nb_filter       = 32   # number of filter/kernels in the convolutional layers\n",
        "filter_length   = 3  # length of the filter/kernel in the convolutional layers\n",
        "window_size     = X_train.shape[1] # the window size defined by the dataset\n",
        "nb_features     = X_train.shape[2] # the number of features of the input data\n",
        "nb_outputs      = Y_train.shape[1]\n",
        "\n",
        "model = Sequential()\n",
        "model.add(Conv1D(filters=nb_filter, kernel_size=filter_length, activation='relu', kernel_initializer='he_normal', input_shape=(X_train.shape[1] ,X_train.shape[2])))\n",
        "model.add(MaxPooling1D())\n",
        "model.add(Dropout(0.3))\n",
        "model.add(Conv1D(filters=nb_filter, kernel_size=filter_length, activation='relu', kernel_initializer='he_normal'))\n",
        "model.add(MaxPooling1D())\n",
        "model.add(Dropout(0.3))\n",
        "model.add(Flatten())\n",
        "model.add(Dense(128, activation='tanh'))\n",
        "model.add(Dropout(0.3))\n",
        "model.add(Dense(nb_outputs, activation='sigmoid'))"
      ]
    },
    {
      "cell_type": "code",
      "execution_count": null,
      "metadata": {
        "id": "ozBR0hnvDL2u"
      },
      "outputs": [],
      "source": [
        "optimizer = RMSprop(learning_rate=0.01)\n",
        "model.compile(loss='binary_crossentropy', optimizer=optimizer, metrics = [\"accuracy\"])"
      ]
    },
    {
      "cell_type": "code",
      "execution_count": null,
      "metadata": {
        "colab": {
          "base_uri": "https://localhost:8080/"
        },
        "id": "hxbRqcjiD541",
        "outputId": "451532bc-5006-4b1e-ac47-267a1a76bfeb"
      },
      "outputs": [
        {
          "output_type": "stream",
          "name": "stdout",
          "text": [
            "Model: \"sequential\"\n",
            "_________________________________________________________________\n",
            " Layer (type)                Output Shape              Param #   \n",
            "=================================================================\n",
            " conv1d (Conv1D)             (None, 58, 32)            7136      \n",
            "                                                                 \n",
            " max_pooling1d (MaxPooling1D  (None, 29, 32)           0         \n",
            " )                                                               \n",
            "                                                                 \n",
            " dropout (Dropout)           (None, 29, 32)            0         \n",
            "                                                                 \n",
            " conv1d_1 (Conv1D)           (None, 27, 32)            3104      \n",
            "                                                                 \n",
            " max_pooling1d_1 (MaxPooling  (None, 13, 32)           0         \n",
            " 1D)                                                             \n",
            "                                                                 \n",
            " dropout_1 (Dropout)         (None, 13, 32)            0         \n",
            "                                                                 \n",
            " flatten (Flatten)           (None, 416)               0         \n",
            "                                                                 \n",
            " dense (Dense)               (None, 128)               53376     \n",
            "                                                                 \n",
            " dropout_2 (Dropout)         (None, 128)               0         \n",
            "                                                                 \n",
            " dense_1 (Dense)             (None, 1)                 129       \n",
            "                                                                 \n",
            "=================================================================\n",
            "Total params: 63,745\n",
            "Trainable params: 63,745\n",
            "Non-trainable params: 0\n",
            "_________________________________________________________________\n"
          ]
        }
      ],
      "source": [
        "model.summary()"
      ]
    },
    {
      "cell_type": "code",
      "execution_count": null,
      "metadata": {
        "colab": {
          "base_uri": "https://localhost:8080/"
        },
        "id": "Fg_Yh5jouaUO",
        "outputId": "47ba2999-9776-4ee7-a961-a7f777a8797c"
      },
      "outputs": [
        {
          "output_type": "stream",
          "name": "stdout",
          "text": [
            "Input:  KerasTensor(type_spec=TensorSpec(shape=(None, 60, 74), dtype=tf.float32, name='conv1d_input'), name='conv1d_input', description=\"created by layer 'conv1d_input'\")\n",
            "Output:  KerasTensor(type_spec=TensorSpec(shape=(None, 1), dtype=tf.float32, name=None), name='dense_1/Sigmoid:0', description=\"created by layer 'dense_1'\")\n"
          ]
        }
      ],
      "source": [
        "print('Input: ', model.input)\n",
        "print('Output: ', model.output)"
      ]
    },
    {
      "cell_type": "markdown",
      "metadata": {
        "id": "hWFb-nAMHuAI"
      },
      "source": [
        "## Model training\n",
        "Train the model and apply early stopping."
      ]
    },
    {
      "cell_type": "code",
      "execution_count": null,
      "metadata": {
        "id": "dvgKjqp3Hwkp"
      },
      "outputs": [],
      "source": [
        "# Early Stopping\n",
        "es = EarlyStopping(patience=5, \n",
        "                  restore_best_weights=True,\n",
        "                  monitor='val_accuracy')"
      ]
    },
    {
      "cell_type": "code",
      "execution_count": null,
      "metadata": {
        "colab": {
          "base_uri": "https://localhost:8080/"
        },
        "id": "rlh5S1cNEcNL",
        "outputId": "f0d1b06e-cc6f-45f4-a28b-993d61f2e17f"
      },
      "outputs": [
        {
          "output_type": "stream",
          "name": "stdout",
          "text": [
            "Epoch 1/50\n",
            "398/398 - 5s - loss: 0.3541 - accuracy: 0.8505 - val_loss: 0.2624 - val_accuracy: 0.8980 - 5s/epoch - 12ms/step\n",
            "Epoch 2/50\n",
            "398/398 - 4s - loss: 0.2603 - accuracy: 0.8960 - val_loss: 0.4578 - val_accuracy: 0.7952 - 4s/epoch - 10ms/step\n",
            "Epoch 3/50\n",
            "398/398 - 4s - loss: 0.2419 - accuracy: 0.9043 - val_loss: 0.2627 - val_accuracy: 0.8911 - 4s/epoch - 10ms/step\n",
            "Epoch 4/50\n",
            "398/398 - 3s - loss: 0.2269 - accuracy: 0.9141 - val_loss: 0.3003 - val_accuracy: 0.8826 - 3s/epoch - 8ms/step\n",
            "Epoch 5/50\n",
            "398/398 - 3s - loss: 0.2212 - accuracy: 0.9165 - val_loss: 0.3408 - val_accuracy: 0.8623 - 3s/epoch - 8ms/step\n",
            "Epoch 6/50\n",
            "398/398 - 4s - loss: 0.2109 - accuracy: 0.9199 - val_loss: 0.3499 - val_accuracy: 0.8692 - 4s/epoch - 11ms/step\n"
          ]
        },
        {
          "output_type": "execute_result",
          "data": {
            "text/plain": [
              "<keras.callbacks.History at 0x7f2c4d78e5b0>"
            ]
          },
          "metadata": {},
          "execution_count": 20
        }
      ],
      "source": [
        "model.fit(X_train, Y_train, \n",
        "          epochs=50, \n",
        "          validation_data=(X_valid,Y_valid),\n",
        "          callbacks=[es],\n",
        "          verbose=2)"
      ]
    },
    {
      "cell_type": "markdown",
      "metadata": {
        "id": "0omw2XzSHwOo"
      },
      "source": [
        "## Evaluation on test data\n",
        "Evaluate the model on the test data in terms of loss and accuracy."
      ]
    },
    {
      "cell_type": "code",
      "execution_count": null,
      "metadata": {
        "id": "4bF3dQA1Hv_R",
        "colab": {
          "base_uri": "https://localhost:8080/"
        },
        "outputId": "7b4381ea-c7dc-4079-addf-27c5fccf1e8a"
      },
      "outputs": [
        {
          "output_type": "stream",
          "name": "stdout",
          "text": [
            "57/57 [==============================] - 0s 3ms/step - loss: 0.5881 - accuracy: 0.7935\n",
            "Test loss: 0.5881094932556152\n",
            "Test accuracy: 0.7935200333595276\n"
          ]
        }
      ],
      "source": [
        "eval = model.evaluate(X_test,Y_test)\n",
        "print(\"Test loss:\",eval[0])\n",
        "print(\"Test accuracy:\",eval[1])"
      ]
    },
    {
      "cell_type": "markdown",
      "metadata": {
        "id": "4Y73Q-h5Hz1r"
      },
      "source": [
        "## Confusion matrix\n",
        "Calculate and display the confusion matrix."
      ]
    },
    {
      "cell_type": "code",
      "source": [
        "Y_test.shape"
      ],
      "metadata": {
        "id": "UNI2Ehhi4Xif",
        "outputId": "5ef31143-3228-452f-828d-8f92d0f60289",
        "colab": {
          "base_uri": "https://localhost:8080/"
        }
      },
      "execution_count": null,
      "outputs": [
        {
          "output_type": "execute_result",
          "data": {
            "text/plain": [
              "(1821, 1)"
            ]
          },
          "metadata": {},
          "execution_count": 25
        }
      ]
    },
    {
      "cell_type": "code",
      "source": [
        "Y_test"
      ],
      "metadata": {
        "id": "bsCUrw3N4c4v",
        "outputId": "22a5d39c-987f-40cf-9e0b-409c23c677e9",
        "colab": {
          "base_uri": "https://localhost:8080/"
        }
      },
      "execution_count": null,
      "outputs": [
        {
          "output_type": "execute_result",
          "data": {
            "text/plain": [
              "array([[0.],\n",
              "       [0.],\n",
              "       [0.],\n",
              "       ...,\n",
              "       [1.],\n",
              "       [1.],\n",
              "       [1.]])"
            ]
          },
          "metadata": {},
          "execution_count": 26
        }
      ]
    },
    {
      "cell_type": "code",
      "execution_count": 29,
      "metadata": {
        "id": "cW8zZi1uJm2B",
        "colab": {
          "base_uri": "https://localhost:8080/"
        },
        "outputId": "93965710-d40a-4789-bcc9-cf353ef23580"
      },
      "outputs": [
        {
          "output_type": "stream",
          "name": "stdout",
          "text": [
            "57/57 [==============================] - 0s 4ms/step\n",
            "              precision    recall  f1-score   support\n",
            "\n",
            "         0.0       0.23      0.07      0.11       324\n",
            "         1.0       0.83      0.95      0.88      1497\n",
            "\n",
            "    accuracy                           0.79      1821\n",
            "   macro avg       0.53      0.51      0.50      1821\n",
            "weighted avg       0.72      0.79      0.75      1821\n",
            "\n"
          ]
        }
      ],
      "source": [
        "from sklearn.metrics import confusion_matrix, classification_report\n",
        "preds = model.predict(X_test)\n",
        "print(classification_report(np.round_(Y_test),np.round_(preds)))"
      ]
    },
    {
      "cell_type": "code",
      "source": [
        "conf=confusion_matrix(np.round_(Y_test),np.round_(preds))\n",
        "sns.heatmap(conf, annot=True, fmt='d', vmax=100)"
      ],
      "metadata": {
        "colab": {
          "base_uri": "https://localhost:8080/",
          "height": 453
        },
        "id": "dj5EMwrzBuTx",
        "outputId": "c08924ed-0528-4cfc-e5de-69fac9ce149d"
      },
      "execution_count": 30,
      "outputs": [
        {
          "output_type": "execute_result",
          "data": {
            "text/plain": [
              "<Axes: >"
            ]
          },
          "metadata": {},
          "execution_count": 30
        },
        {
          "output_type": "display_data",
          "data": {
            "text/plain": [
              "<Figure size 640x480 with 2 Axes>"
            ],
            "image/png": "[encoded data removed]"
          },
          "metadata": {}
        }
      ]
    }
  ],
  "metadata": {
    "colab": {
      "provenance": [],
      "include_colab_link": true
    },
    "kernelspec": {
      "display_name": "Python 3",
      "language": "python",
      "name": "python3"
    },
    "language_info": {
      "codemirror_mode": {
        "name": "ipython",
        "version": 3
      },
      "file_extension": ".py",
      "mimetype": "text/x-python",
      "name": "python",
      "nbconvert_exporter": "python",
      "pygments_lexer": "ipython3",
      "version": "3.6.6"
    }
  },
  "nbformat": 4,
  "nbformat_minor": 0
}