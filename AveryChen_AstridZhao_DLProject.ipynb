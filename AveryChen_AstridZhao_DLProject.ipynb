{
  "cells": [
    {
      "cell_type": "markdown",
      "metadata": {
        "id": "view-in-github",
        "colab_type": "text"
      },
      "source": [
        "<a href=\"https://colab.research.google.com/github/averyc88/Spring2023DeepLearning/blob/Avery/AveryChen_AstridZhao_DLProject.ipynb\" target=\"_parent\"><img src=\"https://colab.research.google.com/assets/colab-badge.svg\" alt=\"Open In Colab\"/></a>"
      ]
    },
    {
      "cell_type": "markdown",
      "metadata": {
        "id": "KOMTtUaZKEol"
      },
      "source": [
        "# Milestone 1\n"
      ]
    },
    {
      "cell_type": "code",
      "execution_count": 82,
      "metadata": {
        "colab": {
          "base_uri": "https://localhost:8080/"
        },
        "id": "KyFpBkdkKH_l",
        "outputId": "2272dfef-b055-4e44-8487-8b99320c50c2"
      },
      "outputs": [
        {
          "output_type": "stream",
          "name": "stdout",
          "text": [
            "Looking in indexes: https://pypi.org/simple, https://us-python.pkg.dev/colab-wheels/public/simple/\n",
            "Requirement already satisfied: pytreebank in /usr/local/lib/python3.9/dist-packages (0.2.7)\n"
          ]
        }
      ],
      "source": [
        "!pip install pytreebank\n",
        "import pytreebank\n"
      ]
    },
    {
      "cell_type": "code",
      "execution_count": 83,
      "metadata": {
        "colab": {
          "base_uri": "https://localhost:8080/"
        },
        "outputId": "02a513a3-a943-4a1e-93ab-d876c6edfd8e",
        "id": "_UA_zzA4N-9y"
      },
      "outputs": [
        {
          "output_type": "stream",
          "name": "stdout",
          "text": [
            "The Rock is destined to be the 21st Century 's new `` Conan '' and that he 's going to make a splash even greater than Arnold Schwarzenegger , Jean-Claud Van Damme or Steven Segal . has sentiment label positive\n",
            "The Rock has sentiment label neutral\n",
            "The has sentiment label neutral\n",
            "Rock has sentiment label neutral\n",
            "is destined to be the 21st Century 's new `` Conan '' and that he 's going to make a splash even greater than Arnold Schwarzenegger , Jean-Claud Van Damme or Steven Segal . has sentiment label very positive\n",
            "is destined to be the 21st Century 's new `` Conan '' and that he 's going to make a splash even greater than Arnold Schwarzenegger , Jean-Claud Van Damme or Steven Segal has sentiment label positive\n",
            "is has sentiment label neutral\n",
            "destined to be the 21st Century 's new `` Conan '' and that he 's going to make a splash even greater than Arnold Schwarzenegger , Jean-Claud Van Damme or Steven Segal has sentiment label very positive\n",
            "destined has sentiment label neutral\n",
            "to be the 21st Century 's new `` Conan '' and that he 's going to make a splash even greater than Arnold Schwarzenegger , Jean-Claud Van Damme or Steven Segal has sentiment label neutral\n",
            "to be the 21st Century 's new `` Conan '' and has sentiment label neutral\n",
            "to be the 21st Century 's new `` Conan '' has sentiment label neutral\n",
            "to be the 21st Century 's new `` Conan has sentiment label neutral\n",
            "to has sentiment label neutral\n",
            "be the 21st Century 's new `` Conan has sentiment label neutral\n",
            "be has sentiment label neutral\n",
            "the 21st Century 's new `` Conan has sentiment label neutral\n",
            "the has sentiment label neutral\n",
            "21st Century 's new `` Conan has sentiment label neutral\n",
            "21st has sentiment label neutral\n",
            "Century 's new `` Conan has sentiment label neutral\n",
            "Century 's has sentiment label neutral\n",
            "Century has sentiment label neutral\n",
            "'s has sentiment label neutral\n",
            "new `` Conan has sentiment label neutral\n",
            "new has sentiment label positive\n",
            "`` Conan has sentiment label neutral\n",
            "`` has sentiment label neutral\n",
            "Conan has sentiment label neutral\n",
            "'' has sentiment label neutral\n",
            "and has sentiment label neutral\n",
            "that he 's going to make a splash even greater than Arnold Schwarzenegger , Jean-Claud Van Damme or Steven Segal has sentiment label positive\n",
            "that has sentiment label neutral\n",
            "he 's going to make a splash even greater than Arnold Schwarzenegger , Jean-Claud Van Damme or Steven Segal has sentiment label positive\n",
            "he has sentiment label neutral\n",
            "'s going to make a splash even greater than Arnold Schwarzenegger , Jean-Claud Van Damme or Steven Segal has sentiment label positive\n",
            "'s has sentiment label neutral\n",
            "going to make a splash even greater than Arnold Schwarzenegger , Jean-Claud Van Damme or Steven Segal has sentiment label positive\n",
            "going has sentiment label neutral\n",
            "to make a splash even greater than Arnold Schwarzenegger , Jean-Claud Van Damme or Steven Segal has sentiment label positive\n",
            "to has sentiment label neutral\n",
            "make a splash even greater than Arnold Schwarzenegger , Jean-Claud Van Damme or Steven Segal has sentiment label very positive\n",
            "make a splash even greater has sentiment label positive\n",
            "make has sentiment label neutral\n",
            "a splash even greater has sentiment label positive\n",
            "a splash has sentiment label positive\n",
            "a has sentiment label neutral\n",
            "splash has sentiment label positive\n",
            "even greater has sentiment label neutral\n",
            "even has sentiment label neutral\n",
            "greater has sentiment label positive\n",
            "than Arnold Schwarzenegger , Jean-Claud Van Damme or Steven Segal has sentiment label neutral\n",
            "than has sentiment label neutral\n",
            "Arnold Schwarzenegger , Jean-Claud Van Damme or Steven Segal has sentiment label neutral\n",
            "Arnold Schwarzenegger , Jean-Claud Van Damme or has sentiment label neutral\n",
            "Arnold Schwarzenegger , Jean-Claud Van Damme has sentiment label neutral\n",
            "Arnold Schwarzenegger , has sentiment label neutral\n",
            "Arnold Schwarzenegger has sentiment label negative\n",
            "Arnold has sentiment label neutral\n",
            "Schwarzenegger has sentiment label neutral\n",
            ", has sentiment label neutral\n",
            "Jean-Claud Van Damme has sentiment label neutral\n",
            "Jean-Claud has sentiment label neutral\n",
            "Van Damme has sentiment label neutral\n",
            "Van has sentiment label neutral\n",
            "Damme has sentiment label neutral\n",
            "or has sentiment label neutral\n",
            "Steven Segal has sentiment label neutral\n",
            "Steven has sentiment label neutral\n",
            "Segal has sentiment label neutral\n",
            ". has sentiment label neutral\n"
          ]
        }
      ],
      "source": [
        "# test\n",
        "dataset = pytreebank.load_sst()\n",
        "example = dataset[\"train\"][0]\n",
        "\n",
        "# extract spans from the tree.\n",
        "for label, sentence in example.to_labeled_lines():\n",
        "\tprint(\"%s has sentiment label %s\" % (\n",
        "\t\tsentence,\n",
        "\t\t[\"very negative\", \"negative\", \"neutral\", \"positive\", \"very positive\"][label]\n",
        "\t))"
      ]
    },
    {
      "cell_type": "code",
      "source": [
        "import matplotlib.pyplot as plt\n",
        "import seaborn as sns\n",
        "import numpy as np\n",
        "import pandas as pd\n",
        "import matplotlib.pyplot as plt \n",
        "from sklearn import preprocessing"
      ],
      "metadata": {
        "id": "bRcIM6ToPDz2"
      },
      "execution_count": 84,
      "outputs": []
    },
    {
      "cell_type": "code",
      "source": [
        "# Keras imports : model, layers, optimizers\n",
        "from tensorflow.keras.models import Sequential\n",
        "from tensorflow.keras.layers import Dense, Embedding, Flatten, Dropout\n",
        "from tensorflow.keras.initializers import HeNormal\n",
        "from tensorflow.keras.callbacks import EarlyStopping"
      ],
      "metadata": {
        "id": "GgzMFkJTPGoC"
      },
      "execution_count": 85,
      "outputs": []
    },
    {
      "cell_type": "code",
      "source": [
        "# load dataset\n",
        "# https://pypi.org/project/pytreebank/\n",
        "dataset = pytreebank.load_sst(\"/path/to/sentiment/\")"
      ],
      "metadata": {
        "id": "3V_Lf8e6O3Dc"
      },
      "execution_count": 86,
      "outputs": []
    },
    {
      "cell_type": "code",
      "source": [
        "!pip install gensim\n",
        "from gensim.parsing.preprocessing import remove_stopwords"
      ],
      "metadata": {
        "colab": {
          "base_uri": "https://localhost:8080/"
        },
        "id": "-4srB7qVZsUb",
        "outputId": "5c7c3eef-c560-4e68-ec0e-ddd3b5a954dd"
      },
      "execution_count": 87,
      "outputs": [
        {
          "output_type": "stream",
          "name": "stdout",
          "text": [
            "Looking in indexes: https://pypi.org/simple, https://us-python.pkg.dev/colab-wheels/public/simple/\n",
            "Requirement already satisfied: gensim in /usr/local/lib/python3.9/dist-packages (3.6.0)\n",
            "Requirement already satisfied: six>=1.5.0 in /usr/local/lib/python3.9/dist-packages (from gensim) (1.15.0)\n",
            "Requirement already satisfied: scipy>=0.18.1 in /usr/local/lib/python3.9/dist-packages (from gensim) (1.10.1)\n",
            "Requirement already satisfied: numpy>=1.11.3 in /usr/local/lib/python3.9/dist-packages (from gensim) (1.22.4)\n",
            "Requirement already satisfied: smart-open>=1.2.1 in /usr/local/lib/python3.9/dist-packages (from gensim) (6.3.0)\n"
          ]
        }
      ]
    },
    {
      "cell_type": "code",
      "source": [
        "train_data = pytreebank.import_tree_corpus(\"/path/to/sentiment/train.txt\")\n",
        "validation_data = pytreebank.import_tree_corpus(\"/path/to/sentiment/dev.txt\")\n",
        "test_data = pytreebank.import_tree_corpus(\"/path/to/sentiment/test.txt\")"
      ],
      "metadata": {
        "id": "NgJEfz7SQOmA"
      },
      "execution_count": 88,
      "outputs": []
    },
    {
      "cell_type": "markdown",
      "source": [
        "Preprocess the text to remove any irrelevant or sensitive information, such as email headers or personally identifiable information. This can also involve stop-word removal."
      ],
      "metadata": {
        "id": "576gMAeNZrcu"
      }
    },
    {
      "cell_type": "markdown",
      "source": [
        "*PLEASE READ*\n",
        "\n",
        "We did not remove any punctuations and stopwords because when we observed the data, we found out some of the stopwords such as \"the\" and punctuation such as \",\" have sentiment score. In order to make the model be more accuracy, we decided not remove anything from the original sentences. "
      ],
      "metadata": {
        "id": "WINnxou3Ptsx"
      }
    },
    {
      "cell_type": "code",
      "source": [
        "# X_train \n",
        "# Y_train\n",
        "# X_validation\n",
        "# Y_validation\n",
        "# X_test\n",
        "# Y_test\n",
        "\n",
        "X_train = []\n",
        "Y_train = []\n",
        "for i in range(len(train_data)):\n",
        "  for label, sentence in train_data[i].to_labeled_lines():\n",
        "\n",
        "    # sentence = remove_stopwords(sentence)\n",
        "    # sentence = sentence.translate(str.maketrans('', '', string.punctuation))\n",
        "\n",
        "    if sentence == '':\n",
        "      break\n",
        "\n",
        "    sentence = sentence.strip()\n",
        "\n",
        "    if len(X_train) > 0:\n",
        "      if sentence == X_train[-1]:\n",
        "        break\n",
        "\n",
        "    X_train.append(sentence)\n",
        "    Y_train.append(label)\n",
        "\n",
        "X_validation = []\n",
        "Y_validation = []\n",
        "for i in range(len(validation_data)):\n",
        "  for label, sentence in validation_data[i].to_labeled_lines():\n",
        "\n",
        "    # sentence = remove_stopwords(sentence)\n",
        "    # sentence = sentence.translate(str.maketrans('', '', string.punctuation))\n",
        "\n",
        "    if sentence == '':\n",
        "      break\n",
        "\n",
        "    sentence = sentence.strip()\n",
        "\n",
        "    if len(X_validation) > 0:\n",
        "      if sentence == X_validation[-1]:\n",
        "        break\n",
        "\n",
        "    X_validation.append(sentence)\n",
        "    Y_validation.append(label)\n",
        "\n",
        "X_test = []\n",
        "Y_test = []\n",
        "for i in range(len(test_data)):\n",
        "  for label, sentence in test_data[i].to_labeled_lines():\n",
        "\n",
        "    # sentence = remove_stopwords(sentence)\n",
        "    # sentence = sentence.translate(str.maketrans('', '', string.punctuation))\n",
        "    \n",
        "    if sentence == '':\n",
        "      break\n",
        "\n",
        "    sentence = sentence.strip()\n",
        "\n",
        "    if len(X_test) > 0:\n",
        "      if sentence == X_test[-1]:\n",
        "        break\n",
        "\n",
        "    X_test.append(sentence)\n",
        "    Y_test.append(label)\n"
      ],
      "metadata": {
        "id": "w4cxy9aSck8y"
      },
      "execution_count": 89,
      "outputs": []
    },
    {
      "cell_type": "code",
      "source": [
        "# for i in range(1):\n",
        "#   print(train_data[i].to_labeled_lines())\n",
        "\n",
        "# for i in range(20):\n",
        "#   print(validation_data[i].to_labeled_lines())\n",
        "\n",
        "for i in range(20):\n",
        "  print(X_validation[i], Y_validation[i])"
      ],
      "metadata": {
        "colab": {
          "base_uri": "https://localhost:8080/"
        },
        "id": "Ci-i42zM8O5Y",
        "outputId": "8c4cc03a-8c3e-49f4-9ffe-f83c13174a4d"
      },
      "execution_count": 90,
      "outputs": [
        {
          "output_type": "stream",
          "name": "stdout",
          "text": [
            "It 's a lovely film with lovely performances by Buy and Accorsi . 3\n",
            "It 2\n",
            "'s a lovely film with lovely performances by Buy and Accorsi . 4\n",
            "'s a lovely film with lovely performances by Buy and Accorsi 4\n",
            "'s 2\n",
            "a lovely film with lovely performances by Buy and Accorsi 4\n",
            "a lovely film 3\n",
            "a 2\n",
            "lovely film 4\n",
            "lovely 3\n",
            "film 2\n",
            "with lovely performances by Buy and Accorsi 3\n",
            "with 2\n",
            "lovely performances by Buy and Accorsi 4\n",
            "lovely performances 3\n",
            "lovely 3\n",
            "performances 2\n",
            "by Buy and Accorsi 2\n",
            "by 2\n",
            "Buy and Accorsi 2\n"
          ]
        }
      ]
    }
  ],
  "metadata": {
    "accelerator": "GPU",
    "anaconda-cloud": {},
    "colab": {
      "provenance": [],
      "include_colab_link": true
    },
    "kernelspec": {
      "display_name": "Python 3",
      "language": "python",
      "name": "python3"
    },
    "language_info": {
      "codemirror_mode": {
        "name": "ipython",
        "version": 3
      },
      "file_extension": ".py",
      "mimetype": "text/x-python",
      "name": "python",
      "nbconvert_exporter": "python",
      "pygments_lexer": "ipython3",
      "version": "3.6.6"
    }
  },
  "nbformat": 4,
  "nbformat_minor": 0
}