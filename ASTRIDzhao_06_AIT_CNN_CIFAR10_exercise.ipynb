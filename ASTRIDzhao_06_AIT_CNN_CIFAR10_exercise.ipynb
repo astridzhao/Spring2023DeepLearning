{
  "nbformat": 4,
  "nbformat_minor": 0,
  "metadata": {
    "anaconda-cloud": {},
    "kernelspec": {
      "display_name": "Python 3",
      "language": "python",
      "name": "python3"
    },
    "language_info": {
      "codemirror_mode": {
        "name": "ipython",
        "version": 3
      },
      "file_extension": ".py",
      "mimetype": "text/x-python",
      "name": "python",
      "nbconvert_exporter": "python",
      "pygments_lexer": "ipython3",
      "version": "3.6.6"
    },
    "colab": {
      "provenance": [],
      "include_colab_link": true
    },
    "accelerator": "GPU"
  },
  "cells": [
    {
      "cell_type": "markdown",
      "metadata": {
        "id": "view-in-github",
        "colab_type": "text"
      },
      "source": [
        "<a href=\"https://colab.research.google.com/github/AstridZhao/Spring2023DeepLearning/blob/main/ASTRIDzhao_06_AIT_CNN_CIFAR10_exercise.ipynb\" target=\"_parent\"><img src=\"https://colab.research.google.com/assets/colab-badge.svg\" alt=\"Open In Colab\"/></a>"
      ]
    },
    {
      "cell_type": "markdown",
      "metadata": {
        "id": "cW-EyI5Lxpqi"
      },
      "source": [
        "# Copyright\n",
        "\n",
        "<PRE>\n",
        "Copyright (c) 2023 Bálint Gyires-Tóth - All Rights Reserved\n",
        "You may use and modify this code for research and development purpuses.\n",
        "Using this code for educational purposes (self-paced or instructor led) without the permission of the author is prohibited.\n",
        "</PRE>"
      ]
    },
    {
      "cell_type": "markdown",
      "source": [
        "# Convolutional Neural Network exercise\n",
        "\n",
        "In this notebook, you will build a convolutional neural network, which offers superior results over the previous MLP solution. Additionally, you will perform a more detailed evaluation.  "
      ],
      "metadata": {
        "id": "3EX4cCa4WKJu"
      }
    },
    {
      "cell_type": "code",
      "source": [
        "# imports \n",
        "from tensorflow.keras.datasets import cifar10\n",
        "from tensorflow.keras.utils import to_categorical\n",
        "import numpy as np\n",
        "import matplotlib.pyplot as plt\n",
        "from tensorflow.keras.models import Sequential\n",
        "from tensorflow.keras.layers import Dense, Conv2D, MaxPool2D, Flatten, Dropout, BatchNormalization\n",
        "from tensorflow.keras.initializers import HeNormal\n",
        "from tensorflow.keras.callbacks import EarlyStopping"
      ],
      "metadata": {
        "id": "GdCMhy4HA2qd"
      },
      "execution_count": 2,
      "outputs": []
    },
    {
      "cell_type": "markdown",
      "source": [
        "# 1. Data\n",
        "The dataset we will use is the well-known CIFAR10 (Canadian Institute For Advanced Research). Explore the details on the Keras website first: https://keras.io/api/datasets/cifar10/\n",
        "\n",
        "There isn't much difference between the data preprocessing part and the one we did before. The only difference is that we don't have to reshape images into vectors, but we are working with a 4 dimensional data structure, where the dimensions are: batch, X, Y, and color channels. \n",
        "\n",
        "In the event that anything is not clear regarding the data preparation part, please check the previous CIFAR10 notebook."
      ],
      "metadata": {
        "id": "yY9fztIeWIKt"
      }
    },
    {
      "cell_type": "code",
      "source": [
        "(X_train, Y_train), (X_test, Y_test) = cifar10.load_data()"
      ],
      "metadata": {
        "id": "bez7q0eiWQCK",
        "colab": {
          "base_uri": "https://localhost:8080/"
        },
        "outputId": "ba9d1284-0be3-423c-c512-d19ae4567fc4"
      },
      "execution_count": 3,
      "outputs": [
        {
          "output_type": "stream",
          "name": "stdout",
          "text": [
            "Downloading data from https://www.cs.toronto.edu/~kriz/cifar-10-python.tar.gz\n",
            "170498071/170498071 [==============================] - 6s 0us/step\n"
          ]
        }
      ]
    },
    {
      "cell_type": "code",
      "source": [
        "# it is in int8 format, the neural network requires float32\n",
        "X_train = X_train.astype(\"float32\")\n",
        "X_test = X_test.astype(\"float32\")"
      ],
      "metadata": {
        "id": "vukOcBM0XzSj"
      },
      "execution_count": 4,
      "outputs": []
    },
    {
      "cell_type": "code",
      "source": [
        "train_ratio  = 0.8\n",
        "train_length = X_train.shape[0]\n",
        "train_split  = int(train_ratio*train_length)\n",
        "X_valid, Y_valid = X_train[train_split:], Y_train[train_split:]\n",
        "X_train, Y_train = X_train[:train_split], Y_train[:train_split]"
      ],
      "metadata": {
        "id": "mRwuWxxIxLgN"
      },
      "execution_count": 5,
      "outputs": []
    },
    {
      "cell_type": "code",
      "source": [
        "mean = X_train.mean(axis=0)\n",
        "std  = X_train.std(axis=0)\n",
        "\n",
        "X_train = (X_train-mean)/std\n",
        "X_valid = (X_valid-mean)/std\n",
        "X_test  = (X_test-mean)/std"
      ],
      "metadata": {
        "id": "2ESLP1EIyB2J"
      },
      "execution_count": 6,
      "outputs": []
    },
    {
      "cell_type": "code",
      "source": [
        "nb_classes = len(np.unique(Y_train))\n",
        "Y_train = to_categorical(Y_train, nb_classes)\n",
        "Y_valid = to_categorical(Y_valid, nb_classes)\n",
        "Y_test  = to_categorical(Y_test, nb_classes)"
      ],
      "metadata": {
        "id": "xwZ4OJ6I8lba"
      },
      "execution_count": 7,
      "outputs": []
    },
    {
      "cell_type": "code",
      "source": [
        "print(\"Shapes of the training, validation and test input data:\", X_train.shape, X_valid.shape, X_test.shape)\n",
        "print(\"Shapes of the training, validation and test output data:\", Y_train.shape, Y_valid.shape, Y_test.shape)\n",
        "print(\"Mean values of the training, validation and test input data:\", X_train.mean(), X_valid.mean(), X_test.mean())\n",
        "print(\"Standard deviation of the training, validation and test input data:\", X_train.std(), X_valid.std(), X_test.std())"
      ],
      "metadata": {
        "id": "O_jdJVcvX0vi",
        "colab": {
          "base_uri": "https://localhost:8080/"
        },
        "outputId": "bd7da2cb-95e6-438c-8910-cebd7dbcbadf"
      },
      "execution_count": 8,
      "outputs": [
        {
          "output_type": "stream",
          "name": "stdout",
          "text": [
            "Shapes of the training, validation and test input data: (40000, 32, 32, 3) (10000, 32, 32, 3) (10000, 32, 32, 3)\n",
            "Shapes of the training, validation and test output data: (40000, 10) (10000, 10) (10000, 10)\n",
            "Mean values of the training, validation and test input data: 2.2788842e-09 0.0023437198 0.013331206\n",
            "Standard deviation of the training, validation and test input data: 1.0000023 0.9965626 0.99783075\n"
          ]
        }
      ]
    },
    {
      "cell_type": "markdown",
      "metadata": {
        "id": "cJ14oyZExpqj"
      },
      "source": [
        "# 2. Exercise: training"
      ]
    },
    {
      "cell_type": "markdown",
      "source": [
        "Create and train a convolutional neural network with the following requirements:\n",
        "* apply early stopping with patience=5 and monitor the validation accuracy, don't forget to load back the best weights after early stopping\n",
        "* the number of trainable parameters is lower than 200.000\n",
        "* the validation accuracy must be higher than 72%\n",
        "\n",
        "Hints:\n",
        "* you can always inspect the number of trainable parameters per layer with model.summary()\n",
        "* usually the most trainable parameters are between the last convolutional layer and the next dense layer -- so you should have a reasonable output size at the last convolutional layer\n",
        "* regularization helps (e.g. DropOut and/or BatchNormalization)\n",
        "* use the right activation function at the output layer and the corresponding loss function\n",
        "* for the chosen activation functions, please use the appropriate initialization method\n",
        "* ADAM optimizer is a reasonable choice \n",
        "* don't forget to turn on GPU support in Colab, otherwise, it would be quite slow to train the networks\n",
        "\n"
      ],
      "metadata": {
        "id": "j1tGVPdD-pp3"
      }
    },
    {
      "cell_type": "code",
      "source": [
        "es = EarlyStopping(patience=5, #Number of epochs with no improvement after which training will be stopped.\n",
        "                  #verbose =1,\n",
        "                  monitor='val_accuracy')\n",
        " # early stopping"
      ],
      "metadata": {
        "id": "5dBQxJHIHrbd"
      },
      "execution_count": 9,
      "outputs": []
    },
    {
      "cell_type": "code",
      "source": [
        "X_train[1].shape\n",
        "#Y_train[1].shape"
      ],
      "metadata": {
        "colab": {
          "base_uri": "https://localhost:8080/"
        },
        "id": "QD4pWthGjQYM",
        "outputId": "78db54f9-f69e-47ee-ca51-3f4921b34830"
      },
      "execution_count": 10,
      "outputs": [
        {
          "output_type": "execute_result",
          "data": {
            "text/plain": [
              "(32, 32, 3)"
            ]
          },
          "metadata": {},
          "execution_count": 10
        }
      ]
    },
    {
      "cell_type": "code",
      "source": [
        " model = Sequential()\n",
        " model.add(Dense(32, activation='relu', input_shape=X_train[1].shape))\n",
        " \n",
        " model.add(Conv2D(filters=64, kernel_size=3, activation=\"relu\", padding='same'))\n",
        " \n",
        " model.add(MaxPool2D(padding='valid'))\n",
        " \n",
        " model.add(Dropout(0.26))\n",
        "\n",
        " model.add(Dense(32,activation='relu'))\n",
        "\n",
        " model.add(Conv2D(filters=64, kernel_size=3, activation=\"relu\", padding='same'))\n",
        "\n",
        " model.add(Dropout(0.5))\n",
        " model.add(Flatten())\n",
        " #model.add(BatchNormalization())\n",
        "\n",
        " \n",
        " model.add(Dense(10, activation='softmax'))\n",
        " model.compile(loss='categorical_crossentropy', optimizer='adam', metrics= ['accuracy'])\n"
      ],
      "metadata": {
        "id": "PuxHOqLt-3Nd"
      },
      "execution_count": 11,
      "outputs": []
    },
    {
      "cell_type": "code",
      "source": [
        "model.summary()\n",
        "print('Input: ', model.input)\n",
        "print('Output: ', model.output)"
      ],
      "metadata": {
        "id": "5eomQw8uE9Ix",
        "colab": {
          "base_uri": "https://localhost:8080/"
        },
        "outputId": "f1339b8f-ddce-4d12-c04d-37169a5e3008"
      },
      "execution_count": 12,
      "outputs": [
        {
          "output_type": "stream",
          "name": "stdout",
          "text": [
            "Model: \"sequential\"\n",
            "_________________________________________________________________\n",
            " Layer (type)                Output Shape              Param #   \n",
            "=================================================================\n",
            " dense (Dense)               (None, 32, 32, 32)        128       \n",
            "                                                                 \n",
            " conv2d (Conv2D)             (None, 32, 32, 64)        18496     \n",
            "                                                                 \n",
            " max_pooling2d (MaxPooling2D  (None, 16, 16, 64)       0         \n",
            " )                                                               \n",
            "                                                                 \n",
            " dropout (Dropout)           (None, 16, 16, 64)        0         \n",
            "                                                                 \n",
            " dense_1 (Dense)             (None, 16, 16, 32)        2080      \n",
            "                                                                 \n",
            " conv2d_1 (Conv2D)           (None, 16, 16, 64)        18496     \n",
            "                                                                 \n",
            " dropout_1 (Dropout)         (None, 16, 16, 64)        0         \n",
            "                                                                 \n",
            " flatten (Flatten)           (None, 16384)             0         \n",
            "                                                                 \n",
            " dense_2 (Dense)             (None, 10)                163850    \n",
            "                                                                 \n",
            "=================================================================\n",
            "Total params: 203,050\n",
            "Trainable params: 203,050\n",
            "Non-trainable params: 0\n",
            "_________________________________________________________________\n",
            "Input:  KerasTensor(type_spec=TensorSpec(shape=(None, 32, 32, 3), dtype=tf.float32, name='dense_input'), name='dense_input', description=\"created by layer 'dense_input'\")\n",
            "Output:  KerasTensor(type_spec=TensorSpec(shape=(None, 10), dtype=tf.float32, name=None), name='dense_2/Softmax:0', description=\"created by layer 'dense_2'\")\n"
          ]
        }
      ]
    },
    {
      "cell_type": "markdown",
      "source": [
        "Please, check the number of trainable paramers:"
      ],
      "metadata": {
        "id": "8tIbIIeTEI41"
      }
    },
    {
      "cell_type": "code",
      "source": [
        "print(\"#trainable parameters:\",model.count_params())"
      ],
      "metadata": {
        "id": "xdBAG7EJETlX",
        "colab": {
          "base_uri": "https://localhost:8080/"
        },
        "outputId": "2597da73-0a99-4677-b8cd-5a00cfc00bf2"
      },
      "execution_count": 13,
      "outputs": [
        {
          "output_type": "stream",
          "name": "stdout",
          "text": [
            "#trainable parameters: 203050\n"
          ]
        }
      ]
    },
    {
      "cell_type": "code",
      "source": [
        "# training\n",
        "network_history = model.fit(X_train, Y_train, \n",
        "                            validation_data=(X_valid,Y_valid),\n",
        "                            batch_size=128,                             \n",
        "                            epochs=10000, \n",
        "                            verbose=1, \n",
        "                            callbacks=[es])"
      ],
      "metadata": {
        "id": "u8tFNCNVHyt9",
        "colab": {
          "base_uri": "https://localhost:8080/"
        },
        "outputId": "97c80250-fb18-4312-973b-05d2a5cc47f2"
      },
      "execution_count": 14,
      "outputs": [
        {
          "output_type": "stream",
          "name": "stdout",
          "text": [
            "Epoch 1/10000\n",
            "313/313 [==============================] - 19s 19ms/step - loss: 1.5283 - accuracy: 0.4554 - val_loss: 1.2645 - val_accuracy: 0.5504\n",
            "Epoch 2/10000\n",
            "313/313 [==============================] - 5s 16ms/step - loss: 1.1724 - accuracy: 0.5819 - val_loss: 1.0713 - val_accuracy: 0.6249\n",
            "Epoch 3/10000\n",
            "313/313 [==============================] - 5s 17ms/step - loss: 1.0284 - accuracy: 0.6389 - val_loss: 0.9854 - val_accuracy: 0.6551\n",
            "Epoch 4/10000\n",
            "313/313 [==============================] - 5s 16ms/step - loss: 0.9371 - accuracy: 0.6685 - val_loss: 0.9498 - val_accuracy: 0.6688\n",
            "Epoch 5/10000\n",
            "313/313 [==============================] - 5s 17ms/step - loss: 0.8696 - accuracy: 0.6937 - val_loss: 0.9035 - val_accuracy: 0.6848\n",
            "Epoch 6/10000\n",
            "313/313 [==============================] - 5s 16ms/step - loss: 0.8125 - accuracy: 0.7151 - val_loss: 0.8648 - val_accuracy: 0.7016\n",
            "Epoch 7/10000\n",
            "313/313 [==============================] - 5s 16ms/step - loss: 0.7719 - accuracy: 0.7283 - val_loss: 0.8491 - val_accuracy: 0.7055\n",
            "Epoch 8/10000\n",
            "313/313 [==============================] - 5s 17ms/step - loss: 0.7296 - accuracy: 0.7449 - val_loss: 0.8246 - val_accuracy: 0.7163\n",
            "Epoch 9/10000\n",
            "313/313 [==============================] - 5s 16ms/step - loss: 0.6984 - accuracy: 0.7560 - val_loss: 0.8413 - val_accuracy: 0.7151\n",
            "Epoch 10/10000\n",
            "313/313 [==============================] - 5s 17ms/step - loss: 0.6683 - accuracy: 0.7668 - val_loss: 0.8093 - val_accuracy: 0.7265\n",
            "Epoch 11/10000\n",
            "313/313 [==============================] - 5s 16ms/step - loss: 0.6459 - accuracy: 0.7732 - val_loss: 0.8068 - val_accuracy: 0.7236\n",
            "Epoch 12/10000\n",
            "313/313 [==============================] - 5s 16ms/step - loss: 0.6241 - accuracy: 0.7793 - val_loss: 0.7900 - val_accuracy: 0.7371\n",
            "Epoch 13/10000\n",
            "313/313 [==============================] - 6s 19ms/step - loss: 0.6056 - accuracy: 0.7856 - val_loss: 0.8191 - val_accuracy: 0.7292\n",
            "Epoch 14/10000\n",
            "313/313 [==============================] - 5s 16ms/step - loss: 0.5889 - accuracy: 0.7905 - val_loss: 0.7995 - val_accuracy: 0.7322\n",
            "Epoch 15/10000\n",
            "313/313 [==============================] - 5s 18ms/step - loss: 0.5685 - accuracy: 0.7973 - val_loss: 0.8055 - val_accuracy: 0.7326\n",
            "Epoch 16/10000\n",
            "313/313 [==============================] - 5s 16ms/step - loss: 0.5459 - accuracy: 0.8059 - val_loss: 0.7871 - val_accuracy: 0.7449\n",
            "Epoch 17/10000\n",
            "313/313 [==============================] - 5s 16ms/step - loss: 0.5391 - accuracy: 0.8083 - val_loss: 0.7910 - val_accuracy: 0.7436\n",
            "Epoch 18/10000\n",
            "313/313 [==============================] - 5s 16ms/step - loss: 0.5283 - accuracy: 0.8120 - val_loss: 0.8006 - val_accuracy: 0.7409\n",
            "Epoch 19/10000\n",
            "313/313 [==============================] - 5s 16ms/step - loss: 0.5157 - accuracy: 0.8169 - val_loss: 0.7908 - val_accuracy: 0.7411\n",
            "Epoch 20/10000\n",
            "313/313 [==============================] - 5s 17ms/step - loss: 0.5043 - accuracy: 0.8214 - val_loss: 0.8108 - val_accuracy: 0.7400\n",
            "Epoch 21/10000\n",
            "313/313 [==============================] - 5s 17ms/step - loss: 0.4953 - accuracy: 0.8246 - val_loss: 0.7954 - val_accuracy: 0.7446\n"
          ]
        }
      ]
    },
    {
      "cell_type": "markdown",
      "source": [
        "# 3. Exercise: evaluation on test data\n",
        "You will evaluate the classification of the test data using the common metrics and the confusion matrix in this section. \n",
        "\n",
        "\n",
        "As a first stes, let's run the predictions and convert the predicted softmax outputs to dense labels. The one-hot encoded labels are also converted back to dense labels, as they are required for the evaluation functions."
      ],
      "metadata": {
        "id": "2FtKp-a2-A9m"
      }
    },
    {
      "cell_type": "code",
      "source": [
        "probas = model.predict(X_test)\n",
        "preds  = np.argmax(probas,axis=1)\n",
        "Y_test_dense = np.argmax(Y_test, axis=1) # get the original dense labels of the test data"
      ],
      "metadata": {
        "id": "EcWAqwlDMq3y",
        "colab": {
          "base_uri": "https://localhost:8080/"
        },
        "outputId": "dd88bffc-3d02-4f0b-b2d9-3b2a3bb46797"
      },
      "execution_count": 15,
      "outputs": [
        {
          "output_type": "stream",
          "name": "stdout",
          "text": [
            "313/313 [==============================] - 1s 3ms/step\n"
          ]
        }
      ]
    },
    {
      "cell_type": "markdown",
      "source": [
        "## 3.1. Exercise: Metrics\n",
        "please review the common classification metrics (accuracy, precision, recall, F1) for the complete model (not per class). \n",
        "\n",
        "Hints:\n",
        "* use macro averaging\n",
        "* you have to import the right functions from [sklearn.metrics](https://scikit-learn.org/stable/modules/model_evaluation.html)\n"
      ],
      "metadata": {
        "id": "RWJ-PH_iMs9K"
      }
    },
    {
      "cell_type": "code",
      "source": [
        "from sklearn.metrics import f1_score,accuracy_score,precision_score,recall_score"
      ],
      "metadata": {
        "id": "5sKm5zHSMZ_x"
      },
      "execution_count": 16,
      "outputs": []
    },
    {
      "cell_type": "code",
      "source": [
        "print(\"Accuracy:\",accuracy_score(preds, Y_test_dense))\n",
        "print(\"Precision:\", precision_score(preds, Y_test_dense, average='macro'))\n",
        "print(\"Recall:\", recall_score(preds, Y_test_dense, average='macro'))\n",
        "print(\"F1:\", f1_score(preds, Y_test_dense, average='macro'))"
      ],
      "metadata": {
        "id": "I3_9wgDREUna",
        "colab": {
          "base_uri": "https://localhost:8080/"
        },
        "outputId": "2d8fe362-f9cd-4718-9ff6-ccd026615711"
      },
      "execution_count": 17,
      "outputs": [
        {
          "output_type": "stream",
          "name": "stdout",
          "text": [
            "Accuracy: 0.7382\n",
            "Precision: 0.7382\n",
            "Recall: 0.7375103553249027\n",
            "F1: 0.736753235509906\n"
          ]
        }
      ]
    },
    {
      "cell_type": "markdown",
      "source": [
        "\n",
        "## 3.2. Exercise: Confusion matrix\n",
        "Calculate the confusion matrix and display the results in a heatmap (with decimal values).\n",
        "\n",
        "Hints:\n",
        "* you have to do the imports this time too, e.g. from [sklearn.metrics](https://scikit-learn.org/stable/modules/model_evaluation.html) and the [heatmap function](https://seaborn.pydata.org/generated/seaborn.heatmap.html) of [seaborn](https://seaborn.pydata.org/)\n",
        "* for displaying the decimal values, you have to turn annot=True and define fmt='d' in the heatmap function of seaborn"
      ],
      "metadata": {
        "id": "ECHguBFtGL7f"
      }
    },
    {
      "cell_type": "code",
      "source": [
        "from sklearn.metrics import confusion_matrix\n",
        "import seaborn as sns"
      ],
      "metadata": {
        "id": "SIi2VzMBO3yD"
      },
      "execution_count": 18,
      "outputs": []
    },
    {
      "cell_type": "code",
      "metadata": {
        "id": "cdqODx92Svw7",
        "colab": {
          "base_uri": "https://localhost:8080/",
          "height": 283
        },
        "outputId": "87341eac-1050-458f-9767-3756d04f9025"
      },
      "source": [
        "conf = confusion_matrix(preds, Y_test_dense)\n",
        "sns.heatmap(conf, annot=True, fmt='d')"
      ],
      "execution_count": 20,
      "outputs": [
        {
          "output_type": "execute_result",
          "data": {
            "text/plain": [
              "<Axes: >"
            ]
          },
          "metadata": {},
          "execution_count": 20
        },
        {
          "output_type": "display_data",
          "data": {
            "text/plain": [
              "<Figure size 432x288 with 2 Axes>"
            ],
            "image/png": "[encoded data removed]"
          },
          "metadata": {
            "needs_background": "light"
          }
        }
      ]
    }
  ]
}