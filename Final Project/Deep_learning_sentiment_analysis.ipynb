{
  "nbformat": 4,
  "nbformat_minor": 0,
  "metadata": {
    "colab": {
      "provenance": [],
      "gpuType": "T4",
      "include_colab_link": true
    },
    "kernelspec": {
      "name": "python3",
      "display_name": "Python 3"
    },
    "language_info": {
      "name": "python"
    },
    "accelerator": "GPU",
    "gpuClass": "standard"
  },
  "cells": [
    {
      "cell_type": "markdown",
      "metadata": {
        "id": "view-in-github",
        "colab_type": "text"
      },
      "source": [
        "<a href=\"https://colab.research.google.com/github/AstridZhao/Spring2023DeepLearning/blob/main/Deep_learning_sentiment_analysis.ipynb\" target=\"_parent\"><img src=\"https://colab.research.google.com/assets/colab-badge.svg\" alt=\"Open In Colab\"/></a>"
      ]
    },
    {
      "cell_type": "markdown",
      "source": [
        "This notebook shows you how to model sequential data with Long Short-Term Memory (LSTM) model to predict sentiment scores.\n",
        "\n",
        "# Data acquisition"
      ],
      "metadata": {
        "id": "nKx8_WDAvgOj"
      }
    },
    {
      "cell_type": "code",
      "execution_count": 1,
      "metadata": {
        "colab": {
          "base_uri": "https://localhost:8080/"
        },
        "id": "pHnajAf8-QCB",
        "outputId": "0c09cb2a-5821-40b5-debf-d47892e242e3"
      },
      "outputs": [
        {
          "output_type": "stream",
          "name": "stdout",
          "text": [
            "Looking in indexes: https://pypi.org/simple, https://us-python.pkg.dev/colab-wheels/public/simple/\n",
            "Collecting pytreebank\n",
            "  Downloading pytreebank-0.2.7.tar.gz (34 kB)\n",
            "  Preparing metadata (setup.py) ... \u001b[?25l\u001b[?25hdone\n",
            "Building wheels for collected packages: pytreebank\n",
            "  Building wheel for pytreebank (setup.py) ... \u001b[?25l\u001b[?25hdone\n",
            "  Created wheel for pytreebank: filename=pytreebank-0.2.7-py3-none-any.whl size=37071 sha256=6ed5f0a77eec0691b17d62ca3cbde722e162825fe56368b1fb7ff3a672f86411\n",
            "  Stored in directory: /root/.cache/pip/wheels/e4/11/43/7a30d0573bacddb9b5d0ff33a9c9c8f61d19384e6da8ed2888\n",
            "Successfully built pytreebank\n",
            "Installing collected packages: pytreebank\n",
            "Successfully installed pytreebank-0.2.7\n"
          ]
        }
      ],
      "source": [
        "!pip install pytreebank\n",
        "import pytreebank\n",
        "import numpy as np\n",
        "import pandas as pd\n",
        "from collections import defaultdict\n",
        "from sklearn.model_selection import train_test_split\n",
        "\n",
        "import tensorflow as tf\n",
        "from tensorflow.keras import layers\n",
        "from tensorflow.keras import losses\n",
        "from tensorflow.keras import preprocessing\n",
        "from tensorflow.keras import utils\n",
        "from tensorflow.keras.preprocessing.text import Tokenizer\n",
        "from tensorflow.keras.layers.experimental.preprocessing import TextVectorization\n",
        "\n",
        "from keras.preprocessing.text import Tokenizer\n",
        "from keras.utils import to_categorical, pad_sequences\n",
        "#from keras.preprocessing.sequence import pad_sequences\n",
        "from keras.layers import Dense, Embedding, LSTM, SpatialDropout1D, Bidirectional, Dropout\n",
        "from keras.models import Sequential\n",
        "from tensorflow.keras.callbacks import EarlyStopping"
      ]
    },
    {
      "cell_type": "code",
      "source": [
        "# Load the dataset from disk\n",
        "dataset = pytreebank.load_sst(\"/path/to/sentiment/\")\n",
        "\n",
        "train_data = dataset['train']"
      ],
      "metadata": {
        "id": "rxO-z0hHwWuz"
      },
      "execution_count": 2,
      "outputs": []
    },
    {
      "cell_type": "code",
      "source": [
        "# Example sentence data and sentiment ratings\n",
        "sentences = []\n",
        "sentiment_ratings = []\n",
        "\n",
        "for tree in train_data:\n",
        "  datapoint = tree.to_labeled_lines()[0]\n",
        "  sentiment_ratings.append(datapoint[0])\n",
        "  sentences.append(datapoint[1])"
      ],
      "metadata": {
        "id": "QOyCynWv-e0f"
      },
      "execution_count": 3,
      "outputs": []
    },
    {
      "cell_type": "markdown",
      "source": [
        "Now map the vocabulary learned by the tokenizer. Convert each vocabulary to a number which model could use for training."
      ],
      "metadata": {
        "id": "WnR99Kb27awK"
      }
    },
    {
      "cell_type": "code",
      "source": [
        "# Tokenize sentences and convert sentiment ratings to categorical labels\n",
        "num_words = 10000\n",
        "tokenizer = Tokenizer(num_words,lower=True)\n",
        "tokenizer.fit_on_texts(sentences)"
      ],
      "metadata": {
        "id": "-qE0Qd1N-S-g"
      },
      "execution_count": 4,
      "outputs": []
    },
    {
      "cell_type": "code",
      "source": [
        "sequences = tokenizer.texts_to_sequences(sentences) # this converts texts into some numeric sequences\n",
        "#word_index = tokenizer.word_index\n",
        "max_sequence_length = max([len(seq) for seq in sequences])\n",
        "\n",
        "sequences_padding = pad_sequences(sequences, padding='post', maxlen=max_sequence_length) # this makes the length of all numeric sequences equal\n",
        "labels = to_categorical(sentiment_ratings)"
      ],
      "metadata": {
        "id": "O57BJzFI8lRn"
      },
      "execution_count": 5,
      "outputs": []
    },
    {
      "cell_type": "code",
      "source": [
        "# Split the data into training and testing sets\n",
        "train_data, test_data, train_labels, test_labels = train_test_split(sequences_padding, labels, test_size=0.2, random_state=0)\n",
        "test_data, val_data, test_labels, val_labels = train_test_split(test_data, test_labels, test_size=0.5, random_state=0)"
      ],
      "metadata": {
        "id": "fXfp6V1u-VE4"
      },
      "execution_count": 6,
      "outputs": []
    },
    {
      "cell_type": "code",
      "source": [
        "print(train_data.shape, train_labels.shape)\n",
        "print(val_data.shape,val_labels.shape)\n",
        "print(test_data.shape,test_labels.shape)"
      ],
      "metadata": {
        "colab": {
          "base_uri": "https://localhost:8080/"
        },
        "id": "SDL8xHBjv9A-",
        "outputId": "f7dad848-0cd7-41ef-8bd2-fbcbb42e759b"
      },
      "execution_count": 8,
      "outputs": [
        {
          "output_type": "stream",
          "name": "stdout",
          "text": [
            "(6835, 48) (6835, 5)\n",
            "(855, 48) (855, 5)\n",
            "(854, 48) (854, 5)\n"
          ]
        }
      ]
    },
    {
      "cell_type": "markdown",
      "source": [
        "# Training with additional Embeddings and LSTM\n"
      ],
      "metadata": {
        "id": "irHinsHMwjCE"
      }
    },
    {
      "cell_type": "markdown",
      "source": [
        "We tried to use Word2Vec, which is not a singular algorithm, rather, it is a family of model architectures and optimizations that can be used to learn word embeddings from large datasets. However, it does not work desirable.\n",
        "\n",
        "Reference: https://machinelearningmastery.com/develop-word-embedding-model-predicting-movie-review-sentiment/\n"
      ],
      "metadata": {
        "id": "GuHVfKBOws99"
      }
    },
    {
      "cell_type": "markdown",
      "source": [
        "We are going to use glove-wiki-gigaword-300 which is trained on data and maps a word into an array of length 300. we also have glove-wiki-gigaword-300 which gives a better result but it’s computationally heavy because of higher dimension.\n",
        "\n",
        "Loading the pertained glove vector using the gensim library."
      ],
      "metadata": {
        "id": "sCvly2dDxC55"
      }
    },
    {
      "cell_type": "code",
      "source": [
        "!pip install gensim\n",
        "import gensim.downloader as api\n",
        "glove_gensim  = api.load('glove-wiki-gigaword-300') #More dimension means more deep meaning of words but it may take a longer time to download."
      ],
      "metadata": {
        "colab": {
          "base_uri": "https://localhost:8080/"
        },
        "id": "mHKTYJ1-xJio",
        "outputId": "3fa3c41e-3554-4828-e9d7-64194a34b303"
      },
      "execution_count": 9,
      "outputs": [
        {
          "output_type": "stream",
          "name": "stdout",
          "text": [
            "Looking in indexes: https://pypi.org/simple, https://us-python.pkg.dev/colab-wheels/public/simple/\n",
            "Requirement already satisfied: gensim in /usr/local/lib/python3.10/dist-packages (4.3.1)\n",
            "Requirement already satisfied: numpy>=1.18.5 in /usr/local/lib/python3.10/dist-packages (from gensim) (1.22.4)\n",
            "Requirement already satisfied: scipy>=1.7.0 in /usr/local/lib/python3.10/dist-packages (from gensim) (1.10.1)\n",
            "Requirement already satisfied: smart-open>=1.8.1 in /usr/local/lib/python3.10/dist-packages (from gensim) (6.3.0)\n",
            "[=================================================-] 98.6% 370.8/376.1MB downloaded\n"
          ]
        }
      ]
    },
    {
      "cell_type": "markdown",
      "source": [
        "Now create a weight matrix."
      ],
      "metadata": {
        "id": "ZlWSwR3E2lcM"
      }
    },
    {
      "cell_type": "code",
      "source": [
        "vector_size = 300\n",
        "num_words = 50000\n",
        "gensim_weight_matrix = np.zeros((num_words ,vector_size))\n",
        "gensim_weight_matrix.shape\n",
        "\n",
        "# tokenizer.word_index.items() returns a dictionary of unique words as key and frequency as value.\n",
        "# If a word is found in glove vocabulary then return the corresponding vector and append it in gensim_weight_matrix.\n",
        "# gensim_weight_matrix must have the size of (number of unique words, glove_dimension).\n",
        "\n",
        "for word, index in tokenizer.word_index.items():\n",
        "    if index < num_words: # since index starts with zero \n",
        "        if word in glove_gensim:\n",
        "            gensim_weight_matrix[index] = glove_gensim[word]\n",
        "        else:\n",
        "            gensim_weight_matrix[index] = np.zeros(300)"
      ],
      "metadata": {
        "id": "9wgx0yUl2lLz"
      },
      "execution_count": 10,
      "outputs": []
    },
    {
      "cell_type": "markdown",
      "source": [
        "Embedding Layer: we already have created a word-embedding matrix. to feed our word_embedding matrix in our training we would use an embedding layer.\n",
        "\n",
        "There are 3 parameters in embedding layers.\n",
        "\n",
        "input_dim : Vocabulary Size( number of unique words for training)\n",
        "\n",
        "output_dim : Length of the vector for each word(embedding dimension)\n",
        "\n",
        "input_length : Maximum length of a sequence\n",
        "\n",
        "trainable : It’s False, which means it will only use a given weight matrix,"
      ],
      "metadata": {
        "id": "jrRCsr334sOS"
      }
    },
    {
      "cell_type": "code",
      "source": [
        "EMBEDDING_DIM = 300\n",
        "\n",
        "embedding_layer = Embedding(input_dim = num_words,\n",
        "        output_dim = EMBEDDING_DIM,\n",
        "        input_length= train_data.shape[1],\n",
        "        weights=[gensim_weight_matrix],\n",
        "        trainable=False,\n",
        "        )"
      ],
      "metadata": {
        "id": "IzqcO6rs8Nv4"
      },
      "execution_count": 33,
      "outputs": []
    },
    {
      "cell_type": "code",
      "source": [
        "class_num = 5\n",
        "\n",
        "# Define the model\n",
        "model = Sequential()\n",
        "model.add(embedding_layer)\n",
        "# LSTM Layer\n",
        "model.add(LSTM(128, activation='tanh', recurrent_activation='sigmoid', dropout=0.2))\n",
        "# Dropout layer\n",
        "model.add(Dropout(0.4))\n",
        "# Dense layers\n",
        "model.add(Dense(256, activation = 'relu'))\n",
        "model.add(Dropout(0.5))\n",
        "model.add(Dense(128, activation = 'relu'))\n",
        "model.add(Dropout(0.4))\n",
        "model.add(Dense(64, activation = 'relu'))\n",
        "model.add(Dropout(0.2))\n",
        "model.add(Dense(class_num, activation = 'softmax'))"
      ],
      "metadata": {
        "id": "YyFhSZoa-XLn"
      },
      "execution_count": 39,
      "outputs": []
    },
    {
      "cell_type": "code",
      "source": [
        "model.summary()"
      ],
      "metadata": {
        "colab": {
          "base_uri": "https://localhost:8080/"
        },
        "id": "4JJ_KqwD7HbU",
        "outputId": "4ec6eae3-9ae0-49c3-c069-9671960a25d6"
      },
      "execution_count": 40,
      "outputs": [
        {
          "output_type": "stream",
          "name": "stdout",
          "text": [
            "Model: \"sequential_4\"\n",
            "_________________________________________________________________\n",
            " Layer (type)                Output Shape              Param #   \n",
            "=================================================================\n",
            " embedding_3 (Embedding)     (None, 48, 300)           15000000  \n",
            "                                                                 \n",
            " lstm_3 (LSTM)               (None, 128)               219648    \n",
            "                                                                 \n",
            " dropout_9 (Dropout)         (None, 128)               0         \n",
            "                                                                 \n",
            " dense_9 (Dense)             (None, 256)               33024     \n",
            "                                                                 \n",
            " dropout_10 (Dropout)        (None, 256)               0         \n",
            "                                                                 \n",
            " dense_10 (Dense)            (None, 128)               32896     \n",
            "                                                                 \n",
            " dropout_11 (Dropout)        (None, 128)               0         \n",
            "                                                                 \n",
            " dense_11 (Dense)            (None, 64)                8256      \n",
            "                                                                 \n",
            " dropout_12 (Dropout)        (None, 64)                0         \n",
            "                                                                 \n",
            " dense_12 (Dense)            (None, 5)                 325       \n",
            "                                                                 \n",
            "=================================================================\n",
            "Total params: 15,294,149\n",
            "Trainable params: 294,149\n",
            "Non-trainable params: 15,000,000\n",
            "_________________________________________________________________\n"
          ]
        }
      ]
    },
    {
      "cell_type": "markdown",
      "source": [
        "In order to train efficiently, we defined some callbacks: EarlyStopping and ModelCheckpoint"
      ],
      "metadata": {
        "id": "VE1Ad8ZQ5EQT"
      }
    },
    {
      "cell_type": "markdown",
      "source": [
        "\n",
        "*   EarlyStopping stops the training after some patience if no further improvement is observed or if training loss decreases and validation loss increases after a certain point.\n",
        "*   ModelChckpoint saves the model checkpoint.\n",
        "\n"
      ],
      "metadata": {
        "id": "vDVKzOu9_I60"
      }
    },
    {
      "cell_type": "code",
      "source": [
        "# Compile and train the model\n",
        "model.compile(loss='categorical_crossentropy', optimizer='adam', metrics=['accuracy'])\n",
        "\n",
        "from keras.callbacks import EarlyStopping, ModelCheckpoint\n",
        "\n",
        "mc = ModelCheckpoint('./model.h5', monitor = 'val_accuracy', mode = 'max', verbose = 1, save_best_only = True)\n",
        "\n",
        "es = EarlyStopping(monitor='val_accuracy', patience=5, restore_best_weights=True)\n"
      ],
      "metadata": {
        "id": "VlFRDGK2-aAL"
      },
      "execution_count": 41,
      "outputs": []
    },
    {
      "cell_type": "markdown",
      "source": [
        "history_embedding keeps the history of model training."
      ],
      "metadata": {
        "id": "p17cfugxAID7"
      }
    },
    {
      "cell_type": "code",
      "source": [
        "model.fit(train_data, train_labels, validation_data = (val_data, val_labels), epochs=1000, batch_size=32, callbacks=[es,mc])"
      ],
      "metadata": {
        "colab": {
          "base_uri": "https://localhost:8080/"
        },
        "id": "LVRaqqMU_Xza",
        "outputId": "aa862ba8-9998-4feb-9a62-3d8536454370"
      },
      "execution_count": 42,
      "outputs": [
        {
          "output_type": "stream",
          "name": "stdout",
          "text": [
            "Epoch 1/1000\n",
            "214/214 [==============================] - ETA: 0s - loss: 1.5773 - accuracy: 0.2695\n",
            "Epoch 1: val_accuracy improved from -inf to 0.28538, saving model to ./model.h5\n",
            "214/214 [==============================] - 42s 132ms/step - loss: 1.5773 - accuracy: 0.2695 - val_loss: 1.5541 - val_accuracy: 0.2854\n",
            "Epoch 2/1000\n",
            "214/214 [==============================] - ETA: 0s - loss: 1.5724 - accuracy: 0.2739\n",
            "Epoch 2: val_accuracy did not improve from 0.28538\n",
            "214/214 [==============================] - 27s 125ms/step - loss: 1.5724 - accuracy: 0.2739 - val_loss: 1.5491 - val_accuracy: 0.2854\n",
            "Epoch 3/1000\n",
            "214/214 [==============================] - ETA: 0s - loss: 1.5471 - accuracy: 0.3024\n",
            "Epoch 3: val_accuracy improved from 0.28538 to 0.38596, saving model to ./model.h5\n",
            "214/214 [==============================] - 27s 128ms/step - loss: 1.5471 - accuracy: 0.3024 - val_loss: 1.4522 - val_accuracy: 0.3860\n",
            "Epoch 4/1000\n",
            "214/214 [==============================] - ETA: 0s - loss: 1.4153 - accuracy: 0.3802\n",
            "Epoch 4: val_accuracy improved from 0.38596 to 0.40351, saving model to ./model.h5\n",
            "214/214 [==============================] - 27s 127ms/step - loss: 1.4153 - accuracy: 0.3802 - val_loss: 1.3825 - val_accuracy: 0.4035\n",
            "Epoch 5/1000\n",
            "214/214 [==============================] - ETA: 0s - loss: 1.3589 - accuracy: 0.4013\n",
            "Epoch 5: val_accuracy improved from 0.40351 to 0.43743, saving model to ./model.h5\n",
            "214/214 [==============================] - 29s 135ms/step - loss: 1.3589 - accuracy: 0.4013 - val_loss: 1.3182 - val_accuracy: 0.4374\n",
            "Epoch 6/1000\n",
            "214/214 [==============================] - ETA: 0s - loss: 1.3130 - accuracy: 0.4178\n",
            "Epoch 6: val_accuracy did not improve from 0.43743\n",
            "214/214 [==============================] - 27s 127ms/step - loss: 1.3130 - accuracy: 0.4178 - val_loss: 1.3082 - val_accuracy: 0.4351\n",
            "Epoch 7/1000\n",
            "214/214 [==============================] - ETA: 0s - loss: 1.2723 - accuracy: 0.4294\n",
            "Epoch 7: val_accuracy did not improve from 0.43743\n",
            "214/214 [==============================] - 27s 128ms/step - loss: 1.2723 - accuracy: 0.4294 - val_loss: 1.2956 - val_accuracy: 0.4281\n",
            "Epoch 8/1000\n",
            "214/214 [==============================] - ETA: 0s - loss: 1.2327 - accuracy: 0.4449\n",
            "Epoch 8: val_accuracy did not improve from 0.43743\n",
            "214/214 [==============================] - 27s 128ms/step - loss: 1.2327 - accuracy: 0.4449 - val_loss: 1.3204 - val_accuracy: 0.4374\n",
            "Epoch 9/1000\n",
            "214/214 [==============================] - ETA: 0s - loss: 1.1952 - accuracy: 0.4590\n",
            "Epoch 9: val_accuracy improved from 0.43743 to 0.43977, saving model to ./model.h5\n",
            "214/214 [==============================] - 27s 128ms/step - loss: 1.1952 - accuracy: 0.4590 - val_loss: 1.3039 - val_accuracy: 0.4398\n",
            "Epoch 10/1000\n",
            "214/214 [==============================] - ETA: 0s - loss: 1.1537 - accuracy: 0.4797\n",
            "Epoch 10: val_accuracy did not improve from 0.43977\n",
            "214/214 [==============================] - 28s 130ms/step - loss: 1.1537 - accuracy: 0.4797 - val_loss: 1.4064 - val_accuracy: 0.4058\n",
            "Epoch 11/1000\n",
            "214/214 [==============================] - ETA: 0s - loss: 1.1120 - accuracy: 0.5012\n",
            "Epoch 11: val_accuracy did not improve from 0.43977\n",
            "214/214 [==============================] - 27s 125ms/step - loss: 1.1120 - accuracy: 0.5012 - val_loss: 1.3509 - val_accuracy: 0.4398\n",
            "Epoch 12/1000\n",
            "214/214 [==============================] - ETA: 0s - loss: 1.0644 - accuracy: 0.5129\n",
            "Epoch 12: val_accuracy improved from 0.43977 to 0.44327, saving model to ./model.h5\n",
            "214/214 [==============================] - 27s 127ms/step - loss: 1.0644 - accuracy: 0.5129 - val_loss: 1.3413 - val_accuracy: 0.4433\n",
            "Epoch 13/1000\n",
            "214/214 [==============================] - ETA: 0s - loss: 1.0137 - accuracy: 0.5419\n",
            "Epoch 13: val_accuracy improved from 0.44327 to 0.44561, saving model to ./model.h5\n",
            "214/214 [==============================] - 28s 129ms/step - loss: 1.0137 - accuracy: 0.5419 - val_loss: 1.4889 - val_accuracy: 0.4456\n",
            "Epoch 14/1000\n",
            "214/214 [==============================] - ETA: 0s - loss: 0.9716 - accuracy: 0.5532\n",
            "Epoch 14: val_accuracy did not improve from 0.44561\n",
            "214/214 [==============================] - 27s 125ms/step - loss: 0.9716 - accuracy: 0.5532 - val_loss: 1.4903 - val_accuracy: 0.4433\n",
            "Epoch 15/1000\n",
            "214/214 [==============================] - ETA: 0s - loss: 0.9420 - accuracy: 0.5729\n",
            "Epoch 15: val_accuracy did not improve from 0.44561\n",
            "214/214 [==============================] - 28s 133ms/step - loss: 0.9420 - accuracy: 0.5729 - val_loss: 1.5592 - val_accuracy: 0.4234\n",
            "Epoch 16/1000\n",
            "214/214 [==============================] - ETA: 0s - loss: 0.8885 - accuracy: 0.5941\n",
            "Epoch 16: val_accuracy improved from 0.44561 to 0.45848, saving model to ./model.h5\n",
            "214/214 [==============================] - 28s 129ms/step - loss: 0.8885 - accuracy: 0.5941 - val_loss: 1.6193 - val_accuracy: 0.4585\n",
            "Epoch 17/1000\n",
            "214/214 [==============================] - ETA: 0s - loss: 0.8502 - accuracy: 0.6263\n",
            "Epoch 17: val_accuracy did not improve from 0.45848\n",
            "214/214 [==============================] - 27s 128ms/step - loss: 0.8502 - accuracy: 0.6263 - val_loss: 1.5423 - val_accuracy: 0.4199\n",
            "Epoch 18/1000\n",
            "214/214 [==============================] - ETA: 0s - loss: 0.8102 - accuracy: 0.6426\n",
            "Epoch 18: val_accuracy did not improve from 0.45848\n",
            "214/214 [==============================] - 27s 128ms/step - loss: 0.8102 - accuracy: 0.6426 - val_loss: 1.7293 - val_accuracy: 0.4023\n",
            "Epoch 19/1000\n",
            "214/214 [==============================] - ETA: 0s - loss: 0.7616 - accuracy: 0.6714\n",
            "Epoch 19: val_accuracy did not improve from 0.45848\n",
            "214/214 [==============================] - 27s 128ms/step - loss: 0.7616 - accuracy: 0.6714 - val_loss: 1.7799 - val_accuracy: 0.4316\n",
            "Epoch 20/1000\n",
            "214/214 [==============================] - ETA: 0s - loss: 0.7291 - accuracy: 0.6828\n",
            "Epoch 20: val_accuracy did not improve from 0.45848\n",
            "214/214 [==============================] - 29s 136ms/step - loss: 0.7291 - accuracy: 0.6828 - val_loss: 1.8163 - val_accuracy: 0.4281\n",
            "Epoch 21/1000\n",
            "214/214 [==============================] - ETA: 0s - loss: 0.7014 - accuracy: 0.7012\n",
            "Epoch 21: val_accuracy did not improve from 0.45848\n",
            "214/214 [==============================] - 28s 133ms/step - loss: 0.7014 - accuracy: 0.7012 - val_loss: 1.8402 - val_accuracy: 0.4351\n"
          ]
        },
        {
          "output_type": "execute_result",
          "data": {
            "text/plain": [
              "<keras.callbacks.History at 0x7f3853883190>"
            ]
          },
          "metadata": {},
          "execution_count": 42
        }
      ]
    },
    {
      "cell_type": "markdown",
      "source": [
        "# Plot Evaluation"
      ],
      "metadata": {
        "id": "99359AGCADtj"
      }
    },
    {
      "cell_type": "markdown",
      "source": [
        "\n",
        "We have prepared X_test_pad for testing purposes, it's time to test on it.\n",
        "\n",
        "> np.argmax returns the index of maximum probability.\n"
      ],
      "metadata": {
        "id": "gfHaC_3jAkff"
      }
    },
    {
      "cell_type": "code",
      "source": [
        "# Evaluate the model\n",
        "loss, val_accuracy = model.evaluate(test_data, test_labels)\n",
        "print(\"Test Accuracy: {:.2f}%\".format(val_accuracy * 100))"
      ],
      "metadata": {
        "colab": {
          "base_uri": "https://localhost:8080/"
        },
        "id": "c91COf4Q-cdr",
        "outputId": "c75a8a5c-785a-4d58-979a-dd618a97ecaa"
      },
      "execution_count": 44,
      "outputs": [
        {
          "output_type": "stream",
          "name": "stdout",
          "text": [
            "27/27 [==============================] - 2s 72ms/step - loss: 1.7061 - accuracy: 0.4016\n",
            "Test Accuracy: 40.16%\n"
          ]
        }
      ]
    },
    {
      "cell_type": "code",
      "source": [
        "from sklearn.metrics import confusion_matrix\n",
        "import seaborn as sns\n",
        "import matplotlib.pyplot as plt\n",
        "\n",
        "# calculate the confusion matrix\n",
        "preds = model.predict(test_data)\n",
        "conf = confusion_matrix(np.argmax(test_labels, axis=1), np.argmax(preds, axis=1))\n",
        "\n",
        "# plot the confusion matrix as a heatmap\n",
        "plt.figure(figsize=(7,6))\n",
        "sns.heatmap(conf, annot=True, fmt='d')\n",
        "plt.xlabel('Predicted label')\n",
        "plt.ylabel('True label')\n",
        "plt.show()"
      ],
      "metadata": {
        "colab": {
          "base_uri": "https://localhost:8080/",
          "height": 564
        },
        "id": "hV5FMzPLEPi6",
        "outputId": "fc5462c7-670c-45ac-c611-a7b246240c16"
      },
      "execution_count": 45,
      "outputs": [
        {
          "output_type": "stream",
          "name": "stdout",
          "text": [
            "27/27 [==============================] - 2s 51ms/step\n"
          ]
        },
        {
          "output_type": "display_data",
          "data": {
            "text/plain": [
              "<Figure size 700x600 with 2 Axes>"
            ],
            "image/png": "[encoded data removed]"
          },
          "metadata": {}
        }
      ]
    }
  ]
}
