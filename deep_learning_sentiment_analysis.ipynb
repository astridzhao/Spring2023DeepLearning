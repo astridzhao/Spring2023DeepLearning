{
  "nbformat": 4,
  "nbformat_minor": 0,
  "metadata": {
    "colab": {
      "provenance": [],
      "gpuType": "T4",
      "include_colab_link": true
    },
    "kernelspec": {
      "name": "python3",
      "display_name": "Python 3"
    },
    "language_info": {
      "name": "python"
    },
    "accelerator": "GPU",
    "gpuClass": "standard"
  },
  "cells": [
    {
      "cell_type": "markdown",
      "metadata": {
        "id": "view-in-github",
        "colab_type": "text"
      },
      "source": [
        "<a href=\"https://colab.research.google.com/github/AstridZhao/Spring2023DeepLearning/blob/main/deep_learning_sentiment_analysis.ipynb\" target=\"_parent\"><img src=\"https://colab.research.google.com/assets/colab-badge.svg\" alt=\"Open In Colab\"/></a>"
      ]
    },
    {
      "cell_type": "markdown",
      "source": [
        "This notebook shows you how to model sequential data with Long Short-Term Memory (LSTM) model to predict sentiment scores.\n",
        "\n"
      ],
      "metadata": {
        "id": "-_8I_EsWrrGT"
      }
    },
    {
      "cell_type": "markdown",
      "source": [
        "# Data acquisition"
      ],
      "metadata": {
        "id": "Lxw4u27KqNi-"
      }
    },
    {
      "cell_type": "code",
      "execution_count": 2,
      "metadata": {
        "colab": {
          "base_uri": "https://localhost:8080/"
        },
        "id": "pHnajAf8-QCB",
        "outputId": "f03a382f-b2ae-4d45-d246-d2ef891ccaf0"
      },
      "outputs": [
        {
          "output_type": "stream",
          "name": "stdout",
          "text": [
            "Looking in indexes: https://pypi.org/simple, https://us-python.pkg.dev/colab-wheels/public/simple/\n",
            "Requirement already satisfied: pytreebank in /usr/local/lib/python3.10/dist-packages (0.2.7)\n"
          ]
        }
      ],
      "source": [
        "# import essential packages\n",
        "\n",
        "from keras.utils import to_categorical, pad_sequences\n",
        "from tensorflow.keras.preprocessing.text import Tokenizer\n",
        "!pip install pytreebank\n",
        "import pytreebank\n",
        "import numpy as np\n",
        "import pandas as pd\n",
        "from collections import defaultdict\n",
        "from sklearn.model_selection import train_test_split\n",
        "\n",
        "# Load the dataset from disk\n",
        "dataset = pytreebank.load_sst(\"/path/to/sentiment/\")\n",
        "\n",
        "train_data = dataset['train']"
      ]
    },
    {
      "cell_type": "markdown",
      "source": [
        "# Data Preparation"
      ],
      "metadata": {
        "id": "-FGh3Dx4qsXc"
      }
    },
    {
      "cell_type": "code",
      "source": [
        "# Example sentence data and sentiment ratings\n",
        "sentences = []\n",
        "sentiment_ratings = []\n",
        "\n",
        "for tree in train_data:\n",
        "  datapoint = tree.to_labeled_lines()[0]\n",
        "  sentiment_ratings.append(datapoint[0])\n",
        "  sentences.append(datapoint[1])"
      ],
      "metadata": {
        "id": "QOyCynWv-e0f"
      },
      "execution_count": 3,
      "outputs": []
    },
    {
      "cell_type": "code",
      "source": [
        "# Tokenize sentences and convert sentiment ratings to categorical labels\n",
        "tokenizer = Tokenizer()\n",
        "tokenizer.fit_on_texts(sentences)\n",
        "sequences = tokenizer.texts_to_sequences(sentences)\n",
        "word_index = tokenizer.word_index\n",
        "max_sequence_length = max([len(seq) for seq in sequences])\n",
        "data = pad_sequences(sequences, maxlen=max_sequence_length)\n",
        "labels = to_categorical(sentiment_ratings)"
      ],
      "metadata": {
        "id": "-qE0Qd1N-S-g"
      },
      "execution_count": 4,
      "outputs": []
    },
    {
      "cell_type": "code",
      "source": [
        "# Split the data into training and testing sets\n",
        "train_data, test_data, train_labels, test_labels = train_test_split(data, labels, test_size=0.2, random_state=0)\n",
        "test_data, val_data, test_labels, val_labels = train_test_split(test_data, test_labels, test_size=0.2, random_state=0)"
      ],
      "metadata": {
        "id": "fXfp6V1u-VE4"
      },
      "execution_count": 5,
      "outputs": []
    },
    {
      "cell_type": "markdown",
      "source": [
        "# Training the model\n",
        "Creating the model and the data, and training and evaluating the model:"
      ],
      "metadata": {
        "id": "PUSme_rdriPq"
      }
    },
    {
      "cell_type": "code",
      "source": [
        "from keras.models import Sequential\n",
        "from keras.layers import Dense, Embedding, LSTM, Dropout\n",
        "from tensorflow.keras.callbacks import EarlyStopping\n",
        "\n",
        "embedding_dim = 300\n",
        "\n",
        "# Define the model\n",
        "model = Sequential()\n",
        "model.add(Embedding(len(word_index) + 1, embedding_dim, input_length=max_sequence_length))\n",
        "model.add(Dropout(0.5))\n",
        "model.add(LSTM(64, activation='tanh', recurrent_activation='sigmoid', dropout=0.2, recurrent_dropout=0, unroll=False, use_bias=True))\n",
        "model.add(Dense(5, activation='softmax'))\n",
        "\n",
        "model.summary()"
      ],
      "metadata": {
        "colab": {
          "base_uri": "https://localhost:8080/"
        },
        "id": "YyFhSZoa-XLn",
        "outputId": "73316d62-7f22-45a2-85f8-4251daeb3d77"
      },
      "execution_count": 10,
      "outputs": [
        {
          "output_type": "stream",
          "name": "stdout",
          "text": [
            "Model: \"sequential_1\"\n",
            "_________________________________________________________________\n",
            " Layer (type)                Output Shape              Param #   \n",
            "=================================================================\n",
            " embedding_1 (Embedding)     (None, 49, 300)           4600200   \n",
            "                                                                 \n",
            " dropout_1 (Dropout)         (None, 49, 300)           0         \n",
            "                                                                 \n",
            " lstm_1 (LSTM)               (None, 64)                93440     \n",
            "                                                                 \n",
            " dense_1 (Dense)             (None, 5)                 325       \n",
            "                                                                 \n",
            "=================================================================\n",
            "Total params: 4,693,965\n",
            "Trainable params: 4,693,965\n",
            "Non-trainable params: 0\n",
            "_________________________________________________________________\n"
          ]
        }
      ]
    },
    {
      "cell_type": "code",
      "source": [
        "# Compile and train the model\n",
        "model.compile(loss='categorical_crossentropy', optimizer='adam', metrics=['accuracy'])\n",
        "\n",
        "es = EarlyStopping(monitor='val_accuracy', patience=15, restore_best_weights=True)\n",
        "\n",
        "model.fit(train_data, train_labels, validation_data = (val_data, val_labels), epochs=1000, batch_size=32, callbacks=[es])"
      ],
      "metadata": {
        "colab": {
          "base_uri": "https://localhost:8080/"
        },
        "id": "VlFRDGK2-aAL",
        "outputId": "098b4eca-9022-4e34-ec97-f70322394f31"
      },
      "execution_count": null,
      "outputs": [
        {
          "output_type": "stream",
          "name": "stdout",
          "text": [
            "Epoch 1/1000\n",
            "214/214 [==============================] - 42s 168ms/step - loss: 1.5349 - accuracy: 0.3072 - val_loss: 1.4321 - val_accuracy: 0.3977\n",
            "Epoch 2/1000\n",
            " 88/214 [===========>..................] - ETA: 18s - loss: 1.2373 - accuracy: 0.4759"
          ]
        }
      ]
    },
    {
      "cell_type": "markdown",
      "source": [
        "# Simple evaluation"
      ],
      "metadata": {
        "id": "VJA5h5wAsEZU"
      }
    },
    {
      "cell_type": "code",
      "source": [
        "# Evaluate the model\n",
        "loss, accuracy = model.evaluate(test_data, test_labels)\n",
        "print(\"Test Accuracy: {:.2f}%\".format(accuracy * 100))"
      ],
      "metadata": {
        "colab": {
          "base_uri": "https://localhost:8080/"
        },
        "id": "c91COf4Q-cdr",
        "outputId": "c022e5f5-5154-40c0-c8db-0e167e3defcb"
      },
      "execution_count": 8,
      "outputs": [
        {
          "output_type": "stream",
          "name": "stdout",
          "text": [
            "43/43 [==============================] - 0s 11ms/step - loss: 1.4631 - accuracy: 0.3958\n",
            "Test Accuracy: 39.58%\n"
          ]
        }
      ]
    },
    {
      "cell_type": "code",
      "source": [
        "from sklearn.metrics import confusion_matrix\n",
        "import seaborn as sns\n",
        "import matplotlib.pyplot as plt\n",
        "\n",
        "# calculate the confusion matrix\n",
        "preds = model.predict(test_data)\n",
        "conf = confusion_matrix(np.argmax(test_labels, axis=1), np.argmax(preds, axis=1))\n",
        "\n",
        "# plot the confusion matrix as a heatmap\n",
        "plt.figure(figsize=(7,6))\n",
        "sns.heatmap(conf, annot=True, fmt='d')\n",
        "plt.xlabel('Predicted label')\n",
        "plt.ylabel('True label')\n",
        "plt.show()"
      ],
      "metadata": {
        "colab": {
          "base_uri": "https://localhost:8080/",
          "height": 559
        },
        "id": "hV5FMzPLEPi6",
        "outputId": "0a8f981d-01a2-452b-a3b7-26a6f79fa2c3"
      },
      "execution_count": 9,
      "outputs": [
        {
          "output_type": "stream",
          "name": "stdout",
          "text": [
            "43/43 [==============================] - 1s 13ms/step\n"
          ]
        },
        {
          "output_type": "display_data",
          "data": {
            "text/plain": [
              "<Figure size 700x600 with 2 Axes>"
            ],
            "image/png": "[encoded data removed]"
          },
          "metadata": {}
        }
      ]
    }
  ]
}